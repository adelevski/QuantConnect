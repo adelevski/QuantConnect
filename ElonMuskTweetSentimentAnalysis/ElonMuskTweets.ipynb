{
  "nbformat": 4,
  "nbformat_minor": 2,
  "metadata": {
    "colab": {
      "name": "ElonMuskTweets.ipynb",
      "provenance": [],
      "collapsed_sections": []
    },
    "kernelspec": {
      "name": "python3",
      "display_name": "Python 3.8.7 64-bit ('venv': venv)"
    },
    "language_info": {
      "name": "python",
      "version": "3.8.7",
      "mimetype": "text/x-python",
      "codemirror_mode": {
        "name": "ipython",
        "version": 3
      },
      "pygments_lexer": "ipython3",
      "nbconvert_exporter": "python",
      "file_extension": ".py"
    },
    "widgets": {
      "application/vnd.jupyter.widget-state+json": {
        "75567935436c42c5854f583170d07988": {
          "model_module": "@jupyter-widgets/controls",
          "model_name": "HBoxModel",
          "model_module_version": "1.5.0",
          "state": {
            "_view_name": "HBoxView",
            "_dom_classes": [],
            "_model_name": "HBoxModel",
            "_view_module": "@jupyter-widgets/controls",
            "_model_module_version": "1.5.0",
            "_view_count": null,
            "_view_module_version": "1.5.0",
            "box_style": "",
            "layout": "IPY_MODEL_727af2028e734a7bbc52a7ee925cec20",
            "_model_module": "@jupyter-widgets/controls",
            "children": [
              "IPY_MODEL_d0cebef0110045b09f37b0f57c06f345",
              "IPY_MODEL_6430ed5c55b6405487dc85a35ad5cb1c",
              "IPY_MODEL_3c33babc169a4455b35adf2c436769b2"
            ]
          }
        },
        "727af2028e734a7bbc52a7ee925cec20": {
          "model_module": "@jupyter-widgets/base",
          "model_name": "LayoutModel",
          "model_module_version": "1.2.0",
          "state": {
            "_view_name": "LayoutView",
            "grid_template_rows": null,
            "right": null,
            "justify_content": null,
            "_view_module": "@jupyter-widgets/base",
            "overflow": null,
            "_model_module_version": "1.2.0",
            "_view_count": null,
            "flex_flow": null,
            "width": null,
            "min_width": null,
            "border": null,
            "align_items": null,
            "bottom": null,
            "_model_module": "@jupyter-widgets/base",
            "top": null,
            "grid_column": null,
            "overflow_y": null,
            "overflow_x": null,
            "grid_auto_flow": null,
            "grid_area": null,
            "grid_template_columns": null,
            "flex": null,
            "_model_name": "LayoutModel",
            "justify_items": null,
            "grid_row": null,
            "max_height": null,
            "align_content": null,
            "visibility": null,
            "align_self": null,
            "height": null,
            "min_height": null,
            "padding": null,
            "grid_auto_rows": null,
            "grid_gap": null,
            "max_width": null,
            "order": null,
            "_view_module_version": "1.2.0",
            "grid_template_areas": null,
            "object_position": null,
            "object_fit": null,
            "grid_auto_columns": null,
            "margin": null,
            "display": null,
            "left": null
          }
        },
        "d0cebef0110045b09f37b0f57c06f345": {
          "model_module": "@jupyter-widgets/controls",
          "model_name": "HTMLModel",
          "model_module_version": "1.5.0",
          "state": {
            "_view_name": "HTMLView",
            "style": "IPY_MODEL_b81627a77b5841a8b5bf63a235316aac",
            "_dom_classes": [],
            "description": "",
            "_model_name": "HTMLModel",
            "placeholder": "​",
            "_view_module": "@jupyter-widgets/controls",
            "_model_module_version": "1.5.0",
            "value": "Downloading: 100%",
            "_view_count": null,
            "_view_module_version": "1.5.0",
            "description_tooltip": null,
            "_model_module": "@jupyter-widgets/controls",
            "layout": "IPY_MODEL_0845464778e3429c9ec5727c6bb71a6b"
          }
        },
        "6430ed5c55b6405487dc85a35ad5cb1c": {
          "model_module": "@jupyter-widgets/controls",
          "model_name": "FloatProgressModel",
          "model_module_version": "1.5.0",
          "state": {
            "_view_name": "ProgressView",
            "style": "IPY_MODEL_e84e401a07c847d19bb1a0d13af44601",
            "_dom_classes": [],
            "description": "",
            "_model_name": "FloatProgressModel",
            "bar_style": "success",
            "max": 39,
            "_view_module": "@jupyter-widgets/controls",
            "_model_module_version": "1.5.0",
            "value": 39,
            "_view_count": null,
            "_view_module_version": "1.5.0",
            "orientation": "horizontal",
            "min": 0,
            "description_tooltip": null,
            "_model_module": "@jupyter-widgets/controls",
            "layout": "IPY_MODEL_31f02e6c03f04bc48d56549f81c045aa"
          }
        },
        "3c33babc169a4455b35adf2c436769b2": {
          "model_module": "@jupyter-widgets/controls",
          "model_name": "HTMLModel",
          "model_module_version": "1.5.0",
          "state": {
            "_view_name": "HTMLView",
            "style": "IPY_MODEL_318d9ac40f9445d5b1f66f239775fa49",
            "_dom_classes": [],
            "description": "",
            "_model_name": "HTMLModel",
            "placeholder": "​",
            "_view_module": "@jupyter-widgets/controls",
            "_model_module_version": "1.5.0",
            "value": " 39.0/39.0 [00:00&lt;00:00, 723B/s]",
            "_view_count": null,
            "_view_module_version": "1.5.0",
            "description_tooltip": null,
            "_model_module": "@jupyter-widgets/controls",
            "layout": "IPY_MODEL_f7cbbff7ebb646f687118178933d991d"
          }
        },
        "b81627a77b5841a8b5bf63a235316aac": {
          "model_module": "@jupyter-widgets/controls",
          "model_name": "DescriptionStyleModel",
          "model_module_version": "1.5.0",
          "state": {
            "_view_name": "StyleView",
            "_model_name": "DescriptionStyleModel",
            "description_width": "",
            "_view_module": "@jupyter-widgets/base",
            "_model_module_version": "1.5.0",
            "_view_count": null,
            "_view_module_version": "1.2.0",
            "_model_module": "@jupyter-widgets/controls"
          }
        },
        "0845464778e3429c9ec5727c6bb71a6b": {
          "model_module": "@jupyter-widgets/base",
          "model_name": "LayoutModel",
          "model_module_version": "1.2.0",
          "state": {
            "_view_name": "LayoutView",
            "grid_template_rows": null,
            "right": null,
            "justify_content": null,
            "_view_module": "@jupyter-widgets/base",
            "overflow": null,
            "_model_module_version": "1.2.0",
            "_view_count": null,
            "flex_flow": null,
            "width": null,
            "min_width": null,
            "border": null,
            "align_items": null,
            "bottom": null,
            "_model_module": "@jupyter-widgets/base",
            "top": null,
            "grid_column": null,
            "overflow_y": null,
            "overflow_x": null,
            "grid_auto_flow": null,
            "grid_area": null,
            "grid_template_columns": null,
            "flex": null,
            "_model_name": "LayoutModel",
            "justify_items": null,
            "grid_row": null,
            "max_height": null,
            "align_content": null,
            "visibility": null,
            "align_self": null,
            "height": null,
            "min_height": null,
            "padding": null,
            "grid_auto_rows": null,
            "grid_gap": null,
            "max_width": null,
            "order": null,
            "_view_module_version": "1.2.0",
            "grid_template_areas": null,
            "object_position": null,
            "object_fit": null,
            "grid_auto_columns": null,
            "margin": null,
            "display": null,
            "left": null
          }
        },
        "e84e401a07c847d19bb1a0d13af44601": {
          "model_module": "@jupyter-widgets/controls",
          "model_name": "ProgressStyleModel",
          "model_module_version": "1.5.0",
          "state": {
            "_view_name": "StyleView",
            "_model_name": "ProgressStyleModel",
            "description_width": "",
            "_view_module": "@jupyter-widgets/base",
            "_model_module_version": "1.5.0",
            "_view_count": null,
            "_view_module_version": "1.2.0",
            "bar_color": null,
            "_model_module": "@jupyter-widgets/controls"
          }
        },
        "31f02e6c03f04bc48d56549f81c045aa": {
          "model_module": "@jupyter-widgets/base",
          "model_name": "LayoutModel",
          "model_module_version": "1.2.0",
          "state": {
            "_view_name": "LayoutView",
            "grid_template_rows": null,
            "right": null,
            "justify_content": null,
            "_view_module": "@jupyter-widgets/base",
            "overflow": null,
            "_model_module_version": "1.2.0",
            "_view_count": null,
            "flex_flow": null,
            "width": null,
            "min_width": null,
            "border": null,
            "align_items": null,
            "bottom": null,
            "_model_module": "@jupyter-widgets/base",
            "top": null,
            "grid_column": null,
            "overflow_y": null,
            "overflow_x": null,
            "grid_auto_flow": null,
            "grid_area": null,
            "grid_template_columns": null,
            "flex": null,
            "_model_name": "LayoutModel",
            "justify_items": null,
            "grid_row": null,
            "max_height": null,
            "align_content": null,
            "visibility": null,
            "align_self": null,
            "height": null,
            "min_height": null,
            "padding": null,
            "grid_auto_rows": null,
            "grid_gap": null,
            "max_width": null,
            "order": null,
            "_view_module_version": "1.2.0",
            "grid_template_areas": null,
            "object_position": null,
            "object_fit": null,
            "grid_auto_columns": null,
            "margin": null,
            "display": null,
            "left": null
          }
        },
        "318d9ac40f9445d5b1f66f239775fa49": {
          "model_module": "@jupyter-widgets/controls",
          "model_name": "DescriptionStyleModel",
          "model_module_version": "1.5.0",
          "state": {
            "_view_name": "StyleView",
            "_model_name": "DescriptionStyleModel",
            "description_width": "",
            "_view_module": "@jupyter-widgets/base",
            "_model_module_version": "1.5.0",
            "_view_count": null,
            "_view_module_version": "1.2.0",
            "_model_module": "@jupyter-widgets/controls"
          }
        },
        "f7cbbff7ebb646f687118178933d991d": {
          "model_module": "@jupyter-widgets/base",
          "model_name": "LayoutModel",
          "model_module_version": "1.2.0",
          "state": {
            "_view_name": "LayoutView",
            "grid_template_rows": null,
            "right": null,
            "justify_content": null,
            "_view_module": "@jupyter-widgets/base",
            "overflow": null,
            "_model_module_version": "1.2.0",
            "_view_count": null,
            "flex_flow": null,
            "width": null,
            "min_width": null,
            "border": null,
            "align_items": null,
            "bottom": null,
            "_model_module": "@jupyter-widgets/base",
            "top": null,
            "grid_column": null,
            "overflow_y": null,
            "overflow_x": null,
            "grid_auto_flow": null,
            "grid_area": null,
            "grid_template_columns": null,
            "flex": null,
            "_model_name": "LayoutModel",
            "justify_items": null,
            "grid_row": null,
            "max_height": null,
            "align_content": null,
            "visibility": null,
            "align_self": null,
            "height": null,
            "min_height": null,
            "padding": null,
            "grid_auto_rows": null,
            "grid_gap": null,
            "max_width": null,
            "order": null,
            "_view_module_version": "1.2.0",
            "grid_template_areas": null,
            "object_position": null,
            "object_fit": null,
            "grid_auto_columns": null,
            "margin": null,
            "display": null,
            "left": null
          }
        }
      }
    },
    "accelerator": "GPU",
    "interpreter": {
      "hash": "c67bd0999650af3981a0a2a7d53235f9106b4d44122095a71afe77510c50f411"
    }
  },
  "cells": [
    {
      "cell_type": "markdown",
      "source": [
        "# Elon Musk Tweets Sentiment Analysis\n",
        "\n",
        "I will be attempting to write an algorithmic trading bot which either longs or shorts TSLA stock depending on the sentiment analysis of Elon Musk's tweets. In order to see if such an algorithm would perform well, I will be gathering a [dataset](https://www.kaggle.com/ayhmrba/elon-musk-tweets-2010-2021) of his tweets from the years 2011-2021, and using them to backtest the strategy on QuantConnect. \n"
      ],
      "metadata": {
        "id": "8m4BcHoOUwRS"
      }
    },
    {
      "cell_type": "code",
      "execution_count": 1,
      "source": [
        "# from google.colab import files\r\n",
        "# from google.colab import drive\r\n",
        "# drive.mount('/content/gdrive')\r\n",
        "# files.upload()\r\n",
        "\r\n",
        "# !cp kaggle.json ~/.kaggle/\r\n",
        "# !chmod 600 /root/.kaggle/kaggle.json\r\n",
        "\r\n",
        "# !kaggle datasets download -d ayhmrba/elon-musk-tweets-2010-2021\r\n",
        "# !unzip /content/elon-musk-tweets-2010-2021.zip"
      ],
      "outputs": [],
      "metadata": {
        "id": "G1QLjklvU-dG",
        "colab": {
          "base_uri": "https://localhost:8080/"
        },
        "outputId": "cfb8d62d-bc53-406e-cee4-e27ee085c8cf"
      }
    },
    {
      "cell_type": "code",
      "execution_count": 2,
      "source": [
        "# !pip install transformers"
      ],
      "outputs": [],
      "metadata": {
        "id": "Kp-rPwVwWjr1"
      }
    },
    {
      "cell_type": "code",
      "execution_count": 3,
      "source": [
        "# import dependencies\r\n",
        "import pandas as pd\r\n",
        "import re\r\n",
        "\r\n",
        "from transformers import AutoTokenizer, AutoModelForSequenceClassification"
      ],
      "outputs": [],
      "metadata": {
        "id": "RlkBQ1HmUsLk"
      }
    },
    {
      "cell_type": "code",
      "execution_count": 4,
      "source": [
        "df = pd.read_csv(\"D:/Code/QuantConnect/ElonMuskTweetSentimentAnalysis/data/2021.csv\")\r\n",
        "df"
      ],
      "outputs": [
        {
          "output_type": "execute_result",
          "data": {
            "text/html": [
              "<div>\n",
              "<style scoped>\n",
              "    .dataframe tbody tr th:only-of-type {\n",
              "        vertical-align: middle;\n",
              "    }\n",
              "\n",
              "    .dataframe tbody tr th {\n",
              "        vertical-align: top;\n",
              "    }\n",
              "\n",
              "    .dataframe thead th {\n",
              "        text-align: right;\n",
              "    }\n",
              "</style>\n",
              "<table border=\"1\" class=\"dataframe\">\n",
              "  <thead>\n",
              "    <tr style=\"text-align: right;\">\n",
              "      <th></th>\n",
              "      <th>Unnamed: 0</th>\n",
              "      <th>id</th>\n",
              "      <th>conversation_id</th>\n",
              "      <th>created_at</th>\n",
              "      <th>date</th>\n",
              "      <th>timezone</th>\n",
              "      <th>place</th>\n",
              "      <th>tweet</th>\n",
              "      <th>language</th>\n",
              "      <th>hashtags</th>\n",
              "      <th>...</th>\n",
              "      <th>geo</th>\n",
              "      <th>source</th>\n",
              "      <th>user_rt_id</th>\n",
              "      <th>user_rt</th>\n",
              "      <th>retweet_id</th>\n",
              "      <th>reply_to</th>\n",
              "      <th>retweet_date</th>\n",
              "      <th>translate</th>\n",
              "      <th>trans_src</th>\n",
              "      <th>trans_dest</th>\n",
              "    </tr>\n",
              "  </thead>\n",
              "  <tbody>\n",
              "    <tr>\n",
              "      <th>0</th>\n",
              "      <td>0</td>\n",
              "      <td>1373819373090050048</td>\n",
              "      <td>1373669212271566858</td>\n",
              "      <td>1.616379e+12</td>\n",
              "      <td>2021-03-22 02:10:37</td>\n",
              "      <td>0</td>\n",
              "      <td>NaN</td>\n",
              "      <td>@bluemoondance74 @NASASpaceflight Going well. ...</td>\n",
              "      <td>en</td>\n",
              "      <td>[]</td>\n",
              "      <td>...</td>\n",
              "      <td>NaN</td>\n",
              "      <td>NaN</td>\n",
              "      <td>NaN</td>\n",
              "      <td>NaN</td>\n",
              "      <td>NaN</td>\n",
              "      <td>[{'screen_name': 'bluemoondance74', 'name': 'R...</td>\n",
              "      <td>NaN</td>\n",
              "      <td>NaN</td>\n",
              "      <td>NaN</td>\n",
              "      <td>NaN</td>\n",
              "    </tr>\n",
              "    <tr>\n",
              "      <th>1</th>\n",
              "      <td>1</td>\n",
              "      <td>1373735946244431873</td>\n",
              "      <td>1373669212271566858</td>\n",
              "      <td>1.616359e+12</td>\n",
              "      <td>2021-03-21 20:39:07</td>\n",
              "      <td>0</td>\n",
              "      <td>NaN</td>\n",
              "      <td>@NASASpaceflight Hopefully will happen this de...</td>\n",
              "      <td>en</td>\n",
              "      <td>[]</td>\n",
              "      <td>...</td>\n",
              "      <td>NaN</td>\n",
              "      <td>NaN</td>\n",
              "      <td>NaN</td>\n",
              "      <td>NaN</td>\n",
              "      <td>NaN</td>\n",
              "      <td>[{'screen_name': 'NASASpaceflight', 'name': 'C...</td>\n",
              "      <td>NaN</td>\n",
              "      <td>NaN</td>\n",
              "      <td>NaN</td>\n",
              "      <td>NaN</td>\n",
              "    </tr>\n",
              "    <tr>\n",
              "      <th>2</th>\n",
              "      <td>2</td>\n",
              "      <td>1373555480870621188</td>\n",
              "      <td>1373328330041229312</td>\n",
              "      <td>1.616316e+12</td>\n",
              "      <td>2021-03-21 08:42:00</td>\n",
              "      <td>0</td>\n",
              "      <td>NaN</td>\n",
              "      <td>@newscientist True</td>\n",
              "      <td>en</td>\n",
              "      <td>[]</td>\n",
              "      <td>...</td>\n",
              "      <td>NaN</td>\n",
              "      <td>NaN</td>\n",
              "      <td>NaN</td>\n",
              "      <td>NaN</td>\n",
              "      <td>NaN</td>\n",
              "      <td>[{'screen_name': 'newscientist', 'name': 'New ...</td>\n",
              "      <td>NaN</td>\n",
              "      <td>NaN</td>\n",
              "      <td>NaN</td>\n",
              "      <td>NaN</td>\n",
              "    </tr>\n",
              "    <tr>\n",
              "      <th>3</th>\n",
              "      <td>3</td>\n",
              "      <td>1373507545315172357</td>\n",
              "      <td>1373263440391864323</td>\n",
              "      <td>1.616305e+12</td>\n",
              "      <td>2021-03-21 05:31:31</td>\n",
              "      <td>0</td>\n",
              "      <td>NaN</td>\n",
              "      <td>@cleantechnica I am accumulating resources to ...</td>\n",
              "      <td>en</td>\n",
              "      <td>[]</td>\n",
              "      <td>...</td>\n",
              "      <td>NaN</td>\n",
              "      <td>NaN</td>\n",
              "      <td>NaN</td>\n",
              "      <td>NaN</td>\n",
              "      <td>NaN</td>\n",
              "      <td>[{'screen_name': 'cleantechnica', 'name': 'Cle...</td>\n",
              "      <td>NaN</td>\n",
              "      <td>NaN</td>\n",
              "      <td>NaN</td>\n",
              "      <td>NaN</td>\n",
              "    </tr>\n",
              "    <tr>\n",
              "      <th>4</th>\n",
              "      <td>4</td>\n",
              "      <td>1373492611231535111</td>\n",
              "      <td>1373357995288051718</td>\n",
              "      <td>1.616301e+12</td>\n",
              "      <td>2021-03-21 04:32:11</td>\n",
              "      <td>0</td>\n",
              "      <td>NaN</td>\n",
              "      <td>@CathieDWood When vast amounts of manufacturin...</td>\n",
              "      <td>en</td>\n",
              "      <td>[]</td>\n",
              "      <td>...</td>\n",
              "      <td>NaN</td>\n",
              "      <td>NaN</td>\n",
              "      <td>NaN</td>\n",
              "      <td>NaN</td>\n",
              "      <td>NaN</td>\n",
              "      <td>[{'screen_name': 'CathieDWood', 'name': 'Cathi...</td>\n",
              "      <td>NaN</td>\n",
              "      <td>NaN</td>\n",
              "      <td>NaN</td>\n",
              "      <td>NaN</td>\n",
              "    </tr>\n",
              "    <tr>\n",
              "      <th>...</th>\n",
              "      <td>...</td>\n",
              "      <td>...</td>\n",
              "      <td>...</td>\n",
              "      <td>...</td>\n",
              "      <td>...</td>\n",
              "      <td>...</td>\n",
              "      <td>...</td>\n",
              "      <td>...</td>\n",
              "      <td>...</td>\n",
              "      <td>...</td>\n",
              "      <td>...</td>\n",
              "      <td>...</td>\n",
              "      <td>...</td>\n",
              "      <td>...</td>\n",
              "      <td>...</td>\n",
              "      <td>...</td>\n",
              "      <td>...</td>\n",
              "      <td>...</td>\n",
              "      <td>...</td>\n",
              "      <td>...</td>\n",
              "      <td>...</td>\n",
              "    </tr>\n",
              "    <tr>\n",
              "      <th>12333</th>\n",
              "      <td>12333</td>\n",
              "      <td>143171132814671872</td>\n",
              "      <td>143171132814671872</td>\n",
              "      <td>1.322970e+12</td>\n",
              "      <td>2011-12-04 03:33:52</td>\n",
              "      <td>0</td>\n",
              "      <td>NaN</td>\n",
              "      <td>Am reading a great biography of Ben Franklin b...</td>\n",
              "      <td>en</td>\n",
              "      <td>[]</td>\n",
              "      <td>...</td>\n",
              "      <td>NaN</td>\n",
              "      <td>NaN</td>\n",
              "      <td>NaN</td>\n",
              "      <td>NaN</td>\n",
              "      <td>NaN</td>\n",
              "      <td>[]</td>\n",
              "      <td>NaN</td>\n",
              "      <td>NaN</td>\n",
              "      <td>NaN</td>\n",
              "      <td>NaN</td>\n",
              "    </tr>\n",
              "    <tr>\n",
              "      <th>12334</th>\n",
              "      <td>12334</td>\n",
              "      <td>142881284019060736</td>\n",
              "      <td>142881284019060736</td>\n",
              "      <td>1.322901e+12</td>\n",
              "      <td>2011-12-03 08:22:07</td>\n",
              "      <td>0</td>\n",
              "      <td>NaN</td>\n",
              "      <td>That was a total non sequitur btw</td>\n",
              "      <td>en</td>\n",
              "      <td>[]</td>\n",
              "      <td>...</td>\n",
              "      <td>NaN</td>\n",
              "      <td>NaN</td>\n",
              "      <td>NaN</td>\n",
              "      <td>NaN</td>\n",
              "      <td>NaN</td>\n",
              "      <td>[]</td>\n",
              "      <td>NaN</td>\n",
              "      <td>NaN</td>\n",
              "      <td>NaN</td>\n",
              "      <td>NaN</td>\n",
              "    </tr>\n",
              "    <tr>\n",
              "      <th>12335</th>\n",
              "      <td>12335</td>\n",
              "      <td>142880871391838208</td>\n",
              "      <td>142880871391838208</td>\n",
              "      <td>1.322900e+12</td>\n",
              "      <td>2011-12-03 08:20:28</td>\n",
              "      <td>0</td>\n",
              "      <td>NaN</td>\n",
              "      <td>Great Voltaire quote, arguably better than Twa...</td>\n",
              "      <td>en</td>\n",
              "      <td>[]</td>\n",
              "      <td>...</td>\n",
              "      <td>NaN</td>\n",
              "      <td>NaN</td>\n",
              "      <td>NaN</td>\n",
              "      <td>NaN</td>\n",
              "      <td>NaN</td>\n",
              "      <td>[]</td>\n",
              "      <td>NaN</td>\n",
              "      <td>NaN</td>\n",
              "      <td>NaN</td>\n",
              "      <td>NaN</td>\n",
              "    </tr>\n",
              "    <tr>\n",
              "      <th>12336</th>\n",
              "      <td>12336</td>\n",
              "      <td>142188458125963264</td>\n",
              "      <td>142188458125963264</td>\n",
              "      <td>1.322735e+12</td>\n",
              "      <td>2011-12-01 10:29:04</td>\n",
              "      <td>0</td>\n",
              "      <td>NaN</td>\n",
              "      <td>I made the volume on the Model S  http://t.co/...</td>\n",
              "      <td>en</td>\n",
              "      <td>[]</td>\n",
              "      <td>...</td>\n",
              "      <td>NaN</td>\n",
              "      <td>NaN</td>\n",
              "      <td>NaN</td>\n",
              "      <td>NaN</td>\n",
              "      <td>NaN</td>\n",
              "      <td>[]</td>\n",
              "      <td>NaN</td>\n",
              "      <td>NaN</td>\n",
              "      <td>NaN</td>\n",
              "      <td>NaN</td>\n",
              "    </tr>\n",
              "    <tr>\n",
              "      <th>12337</th>\n",
              "      <td>12337</td>\n",
              "      <td>142179928203460608</td>\n",
              "      <td>142179928203460608</td>\n",
              "      <td>1.322733e+12</td>\n",
              "      <td>2011-12-01 09:55:11</td>\n",
              "      <td>0</td>\n",
              "      <td>NaN</td>\n",
              "      <td>Went to Iceland on Sat to ride bumper cars on ...</td>\n",
              "      <td>en</td>\n",
              "      <td>[]</td>\n",
              "      <td>...</td>\n",
              "      <td>NaN</td>\n",
              "      <td>NaN</td>\n",
              "      <td>NaN</td>\n",
              "      <td>NaN</td>\n",
              "      <td>NaN</td>\n",
              "      <td>[]</td>\n",
              "      <td>NaN</td>\n",
              "      <td>NaN</td>\n",
              "      <td>NaN</td>\n",
              "      <td>NaN</td>\n",
              "    </tr>\n",
              "  </tbody>\n",
              "</table>\n",
              "<p>12338 rows × 39 columns</p>\n",
              "</div>"
            ],
            "text/plain": [
              "       Unnamed: 0                   id      conversation_id    created_at  \\\n",
              "0               0  1373819373090050048  1373669212271566858  1.616379e+12   \n",
              "1               1  1373735946244431873  1373669212271566858  1.616359e+12   \n",
              "2               2  1373555480870621188  1373328330041229312  1.616316e+12   \n",
              "3               3  1373507545315172357  1373263440391864323  1.616305e+12   \n",
              "4               4  1373492611231535111  1373357995288051718  1.616301e+12   \n",
              "...           ...                  ...                  ...           ...   \n",
              "12333       12333   143171132814671872   143171132814671872  1.322970e+12   \n",
              "12334       12334   142881284019060736   142881284019060736  1.322901e+12   \n",
              "12335       12335   142880871391838208   142880871391838208  1.322900e+12   \n",
              "12336       12336   142188458125963264   142188458125963264  1.322735e+12   \n",
              "12337       12337   142179928203460608   142179928203460608  1.322733e+12   \n",
              "\n",
              "                      date  timezone  place  \\\n",
              "0      2021-03-22 02:10:37         0    NaN   \n",
              "1      2021-03-21 20:39:07         0    NaN   \n",
              "2      2021-03-21 08:42:00         0    NaN   \n",
              "3      2021-03-21 05:31:31         0    NaN   \n",
              "4      2021-03-21 04:32:11         0    NaN   \n",
              "...                    ...       ...    ...   \n",
              "12333  2011-12-04 03:33:52         0    NaN   \n",
              "12334  2011-12-03 08:22:07         0    NaN   \n",
              "12335  2011-12-03 08:20:28         0    NaN   \n",
              "12336  2011-12-01 10:29:04         0    NaN   \n",
              "12337  2011-12-01 09:55:11         0    NaN   \n",
              "\n",
              "                                                   tweet language hashtags  \\\n",
              "0      @bluemoondance74 @NASASpaceflight Going well. ...       en       []   \n",
              "1      @NASASpaceflight Hopefully will happen this de...       en       []   \n",
              "2                                     @newscientist True       en       []   \n",
              "3      @cleantechnica I am accumulating resources to ...       en       []   \n",
              "4      @CathieDWood When vast amounts of manufacturin...       en       []   \n",
              "...                                                  ...      ...      ...   \n",
              "12333  Am reading a great biography of Ben Franklin b...       en       []   \n",
              "12334                  That was a total non sequitur btw       en       []   \n",
              "12335  Great Voltaire quote, arguably better than Twa...       en       []   \n",
              "12336  I made the volume on the Model S  http://t.co/...       en       []   \n",
              "12337  Went to Iceland on Sat to ride bumper cars on ...       en       []   \n",
              "\n",
              "       ... geo  source  user_rt_id user_rt retweet_id  \\\n",
              "0      ... NaN     NaN         NaN     NaN        NaN   \n",
              "1      ... NaN     NaN         NaN     NaN        NaN   \n",
              "2      ... NaN     NaN         NaN     NaN        NaN   \n",
              "3      ... NaN     NaN         NaN     NaN        NaN   \n",
              "4      ... NaN     NaN         NaN     NaN        NaN   \n",
              "...    ...  ..     ...         ...     ...        ...   \n",
              "12333  ... NaN     NaN         NaN     NaN        NaN   \n",
              "12334  ... NaN     NaN         NaN     NaN        NaN   \n",
              "12335  ... NaN     NaN         NaN     NaN        NaN   \n",
              "12336  ... NaN     NaN         NaN     NaN        NaN   \n",
              "12337  ... NaN     NaN         NaN     NaN        NaN   \n",
              "\n",
              "                                                reply_to  retweet_date  \\\n",
              "0      [{'screen_name': 'bluemoondance74', 'name': 'R...           NaN   \n",
              "1      [{'screen_name': 'NASASpaceflight', 'name': 'C...           NaN   \n",
              "2      [{'screen_name': 'newscientist', 'name': 'New ...           NaN   \n",
              "3      [{'screen_name': 'cleantechnica', 'name': 'Cle...           NaN   \n",
              "4      [{'screen_name': 'CathieDWood', 'name': 'Cathi...           NaN   \n",
              "...                                                  ...           ...   \n",
              "12333                                                 []           NaN   \n",
              "12334                                                 []           NaN   \n",
              "12335                                                 []           NaN   \n",
              "12336                                                 []           NaN   \n",
              "12337                                                 []           NaN   \n",
              "\n",
              "      translate trans_src trans_dest  \n",
              "0           NaN       NaN        NaN  \n",
              "1           NaN       NaN        NaN  \n",
              "2           NaN       NaN        NaN  \n",
              "3           NaN       NaN        NaN  \n",
              "4           NaN       NaN        NaN  \n",
              "...         ...       ...        ...  \n",
              "12333       NaN       NaN        NaN  \n",
              "12334       NaN       NaN        NaN  \n",
              "12335       NaN       NaN        NaN  \n",
              "12336       NaN       NaN        NaN  \n",
              "12337       NaN       NaN        NaN  \n",
              "\n",
              "[12338 rows x 39 columns]"
            ]
          },
          "metadata": {},
          "execution_count": 4
        }
      ],
      "metadata": {
        "id": "IzMxkZlxW3Ik",
        "colab": {
          "base_uri": "https://localhost:8080/",
          "height": 796
        },
        "outputId": "67f938cd-7836-4e43-d149-08d1eb5081a3"
      }
    },
    {
      "cell_type": "markdown",
      "source": [
        "The only columns we will need are the 'date' and 'tweet' columns. Also, we need to reverse them for the algorithm's sake. They need to be going from olders to latest, not vice versa."
      ],
      "metadata": {
        "id": "TOR76QiTXHVm"
      }
    },
    {
      "cell_type": "code",
      "execution_count": 5,
      "source": [
        "df = df[['date', 'tweet']]\r\n",
        "df = df[::-1].reset_index(drop=True)\r\n",
        "df"
      ],
      "outputs": [
        {
          "output_type": "execute_result",
          "data": {
            "text/html": [
              "<div>\n",
              "<style scoped>\n",
              "    .dataframe tbody tr th:only-of-type {\n",
              "        vertical-align: middle;\n",
              "    }\n",
              "\n",
              "    .dataframe tbody tr th {\n",
              "        vertical-align: top;\n",
              "    }\n",
              "\n",
              "    .dataframe thead th {\n",
              "        text-align: right;\n",
              "    }\n",
              "</style>\n",
              "<table border=\"1\" class=\"dataframe\">\n",
              "  <thead>\n",
              "    <tr style=\"text-align: right;\">\n",
              "      <th></th>\n",
              "      <th>date</th>\n",
              "      <th>tweet</th>\n",
              "    </tr>\n",
              "  </thead>\n",
              "  <tbody>\n",
              "    <tr>\n",
              "      <th>0</th>\n",
              "      <td>2011-12-01 09:55:11</td>\n",
              "      <td>Went to Iceland on Sat to ride bumper cars on ...</td>\n",
              "    </tr>\n",
              "    <tr>\n",
              "      <th>1</th>\n",
              "      <td>2011-12-01 10:29:04</td>\n",
              "      <td>I made the volume on the Model S  http://t.co/...</td>\n",
              "    </tr>\n",
              "    <tr>\n",
              "      <th>2</th>\n",
              "      <td>2011-12-03 08:20:28</td>\n",
              "      <td>Great Voltaire quote, arguably better than Twa...</td>\n",
              "    </tr>\n",
              "    <tr>\n",
              "      <th>3</th>\n",
              "      <td>2011-12-03 08:22:07</td>\n",
              "      <td>That was a total non sequitur btw</td>\n",
              "    </tr>\n",
              "    <tr>\n",
              "      <th>4</th>\n",
              "      <td>2011-12-04 03:33:52</td>\n",
              "      <td>Am reading a great biography of Ben Franklin b...</td>\n",
              "    </tr>\n",
              "    <tr>\n",
              "      <th>...</th>\n",
              "      <td>...</td>\n",
              "      <td>...</td>\n",
              "    </tr>\n",
              "    <tr>\n",
              "      <th>12333</th>\n",
              "      <td>2021-03-21 04:32:11</td>\n",
              "      <td>@CathieDWood When vast amounts of manufacturin...</td>\n",
              "    </tr>\n",
              "    <tr>\n",
              "      <th>12334</th>\n",
              "      <td>2021-03-21 05:31:31</td>\n",
              "      <td>@cleantechnica I am accumulating resources to ...</td>\n",
              "    </tr>\n",
              "    <tr>\n",
              "      <th>12335</th>\n",
              "      <td>2021-03-21 08:42:00</td>\n",
              "      <td>@newscientist True</td>\n",
              "    </tr>\n",
              "    <tr>\n",
              "      <th>12336</th>\n",
              "      <td>2021-03-21 20:39:07</td>\n",
              "      <td>@NASASpaceflight Hopefully will happen this de...</td>\n",
              "    </tr>\n",
              "    <tr>\n",
              "      <th>12337</th>\n",
              "      <td>2021-03-22 02:10:37</td>\n",
              "      <td>@bluemoondance74 @NASASpaceflight Going well. ...</td>\n",
              "    </tr>\n",
              "  </tbody>\n",
              "</table>\n",
              "<p>12338 rows × 2 columns</p>\n",
              "</div>"
            ],
            "text/plain": [
              "                      date                                              tweet\n",
              "0      2011-12-01 09:55:11  Went to Iceland on Sat to ride bumper cars on ...\n",
              "1      2011-12-01 10:29:04  I made the volume on the Model S  http://t.co/...\n",
              "2      2011-12-03 08:20:28  Great Voltaire quote, arguably better than Twa...\n",
              "3      2011-12-03 08:22:07                  That was a total non sequitur btw\n",
              "4      2011-12-04 03:33:52  Am reading a great biography of Ben Franklin b...\n",
              "...                    ...                                                ...\n",
              "12333  2021-03-21 04:32:11  @CathieDWood When vast amounts of manufacturin...\n",
              "12334  2021-03-21 05:31:31  @cleantechnica I am accumulating resources to ...\n",
              "12335  2021-03-21 08:42:00                                 @newscientist True\n",
              "12336  2021-03-21 20:39:07  @NASASpaceflight Hopefully will happen this de...\n",
              "12337  2021-03-22 02:10:37  @bluemoondance74 @NASASpaceflight Going well. ...\n",
              "\n",
              "[12338 rows x 2 columns]"
            ]
          },
          "metadata": {},
          "execution_count": 5
        }
      ],
      "metadata": {
        "colab": {
          "base_uri": "https://localhost:8080/",
          "height": 419
        },
        "id": "-bzt18oPXH_j",
        "outputId": "24055189-0a00-41a6-fc91-5107f53db3f3"
      }
    },
    {
      "cell_type": "markdown",
      "source": [
        "Much better. Lets look at a couple random tweets."
      ],
      "metadata": {
        "id": "Cc5JW7EGXKtR"
      }
    },
    {
      "cell_type": "code",
      "execution_count": 6,
      "source": [
        "print(df['tweet'][115])\r\n",
        "print(df['tweet'][742])\r\n",
        "print(df['tweet'][1215])\r\n",
        "print(df['tweet'][9211])\r\n",
        "print(df['tweet'][11501])"
      ],
      "outputs": [
        {
          "output_type": "stream",
          "name": "stdout",
          "text": [
            "Happy bday to my old and dear friend @adeoressi! U do parties better than a rockstar. For Berlin ...  http://t.co/vJZkJU13\n",
            "Two teams from Tesla aiming to set a cross-country EV speed record this week. Departing Fri from LA, arriving Sun in NY.\n",
            "Jeff maybe unaware SpaceX suborbital VTOL flight began 2013. Orbital water landing 2014. Orbital land landing next.  https://t.co/S6WMRnEFY5\n",
            "@CNN @GavinNewsom  https://t.co/OP6l8DBf7r\n",
            "@mirojurcevic @TashaARK This is a misperception. SpaceX developed &amp; continues to use lidar for Dragon docking with @Space_Station.   Just pointless imo for self-driving. If you’re going to do active photon generation, use an occlusion penetrating wavelength, like precision radar at ~4mm.\n"
          ]
        }
      ],
      "metadata": {
        "colab": {
          "base_uri": "https://localhost:8080/"
        },
        "id": "oaS9K2nOXLTO",
        "outputId": "c1df3912-32d0-429d-8fb6-6854138759c6"
      }
    },
    {
      "cell_type": "markdown",
      "source": [
        "So, firstly we can see that a lot of Elon's tweets are either about random things or about his other companies, so we will need to filter them to make sure whether or not we should be using each tweet or not. \n",
        "\n",
        "Second, it is possible for Elon to share good news about Tesla, which has a probability of inflating TSLA stock price, thereby giving us a bit of alpha if we are quick enough. \n",
        "\n",
        "And thirdly, we can see that there are URLS in a lot of the tweets, which could be detremental to the sentiment analyzer, so we will have to remove them."
      ],
      "metadata": {
        "id": "1GOVgCKNXn9h"
      }
    },
    {
      "cell_type": "code",
      "execution_count": 7,
      "source": [
        "for i in range(len(df)):\r\n",
        "    if \"http\" in df[\"tweet\"][i]:\r\n",
        "        urls = re.findall('http[s]?://(?:[a-zA-Z]|[0-9]|[$-_@.&+]|[!*\\(\\),]|[?:%[0-9a-fA-F][0-9a-fA-F])+', df[\"tweet\"][i])\r\n",
        "\r\n",
        "        for url in urls:\r\n",
        "            df[\"tweet\"][i] = df[\"tweet\"][i].replace(url, '{URL}')"
      ],
      "outputs": [],
      "metadata": {
        "id": "9TA9WxsAX7K4"
      }
    },
    {
      "cell_type": "code",
      "execution_count": 8,
      "source": [
        "print(df['tweet'][115])\r\n",
        "print(df['tweet'][742])\r\n",
        "print(df['tweet'][1215])\r\n",
        "print(df['tweet'][9211])\r\n",
        "print(df['tweet'][11501])"
      ],
      "outputs": [
        {
          "output_type": "stream",
          "name": "stdout",
          "text": [
            "Happy bday to my old and dear friend @adeoressi! U do parties better than a rockstar. For Berlin ...  {URL}\n",
            "Two teams from Tesla aiming to set a cross-country EV speed record this week. Departing Fri from LA, arriving Sun in NY.\n",
            "Jeff maybe unaware SpaceX suborbital VTOL flight began 2013. Orbital water landing 2014. Orbital land landing next.  {URL}\n",
            "@CNN @GavinNewsom  {URL}\n",
            "@mirojurcevic @TashaARK This is a misperception. SpaceX developed &amp; continues to use lidar for Dragon docking with @Space_Station.   Just pointless imo for self-driving. If you’re going to do active photon generation, use an occlusion penetrating wavelength, like precision radar at ~4mm.\n"
          ]
        }
      ],
      "metadata": {
        "colab": {
          "base_uri": "https://localhost:8080/"
        },
        "id": "lQWk6zEAX-lJ",
        "outputId": "05c83cd4-2bff-496a-9f2e-b078cbc0290a"
      }
    },
    {
      "cell_type": "markdown",
      "source": [
        "Much better. I will save this new DF as a csv of its own to have for later."
      ],
      "metadata": {
        "id": "Uwd_rpR0YED0"
      }
    },
    {
      "cell_type": "code",
      "execution_count": 9,
      "source": [
        "df.to_csv(\"D:/Code/QuantConnect/ElonMuskTweetSentimentAnalysis/data/ElonMuskTweetsPreProcessed.csv\", index=False)"
      ],
      "outputs": [],
      "metadata": {
        "id": "_02PgAD6YDFH"
      }
    },
    {
      "cell_type": "markdown",
      "source": [
        "Now, since QuantConnect does not let us import the transformers library into its environement, we will have to perform the sentiment analysis on the data beforehand, and save it as a new csv which has scores instead of tweets. "
      ],
      "metadata": {
        "id": "PJEgYso9YQOD"
      }
    },
    {
      "cell_type": "code",
      "execution_count": 10,
      "source": [
        "tokenizer = AutoTokenizer.from_pretrained('nlptown/bert-base-multilingual-uncased-sentiment')\r\n",
        "model = AutoModelForSequenceClassification.from_pretrained('nlptown/bert-base-multilingual-uncased-sentiment')"
      ],
      "outputs": [
        {
          "output_type": "stream",
          "name": "stderr",
          "text": [
            "Downloading: 100%|██████████| 638M/638M [05:28<00:00, 2.04MB/s]\n"
          ]
        }
      ],
      "metadata": {
        "colab": {
          "base_uri": "https://localhost:8080/",
          "height": 177,
          "referenced_widgets": [
            "75567935436c42c5854f583170d07988",
            "727af2028e734a7bbc52a7ee925cec20",
            "d0cebef0110045b09f37b0f57c06f345",
            "6430ed5c55b6405487dc85a35ad5cb1c",
            "3c33babc169a4455b35adf2c436769b2",
            "b81627a77b5841a8b5bf63a235316aac",
            "0845464778e3429c9ec5727c6bb71a6b",
            "e84e401a07c847d19bb1a0d13af44601",
            "31f02e6c03f04bc48d56549f81c045aa",
            "318d9ac40f9445d5b1f66f239775fa49",
            "f7cbbff7ebb646f687118178933d991d"
          ]
        },
        "id": "ehyiA5IWYRMG",
        "outputId": "9903db26-b642-4a44-e7b0-68393be67657"
      }
    },
    {
      "cell_type": "markdown",
      "source": [
        "The way that the BERT sentiment analyzer works, is that first you pass the sentence/passage/tweet into the tokenizer which spits out a vector of tokenized words. Then, you pass the tokens into the model and it returns 5 scores, almost like 5 star reviews. The score with the highest number is the most likely one. Lets see an example"
      ],
      "metadata": {
        "id": "kxDBunbVYcaw"
      }
    },
    {
      "cell_type": "code",
      "execution_count": 11,
      "source": [
        "good_setence = \"Wow that is amazing, I cannot believe it! Incredible! Fantastic!\"\r\n",
        "bad_sentence = \"That was the most horrible thing I have ever experienced. Terrible! Never again!\"\r\n",
        "\r\n",
        "good_tokens = tokenizer.encode(good_setence, return_tensors=\"pt\")\r\n",
        "bad_tokens = tokenizer.encode(bad_sentence, return_tensors=\"pt\")\r\n",
        "\r\n",
        "print(good_tokens)\r\n",
        "print(bad_tokens)"
      ],
      "outputs": [
        {
          "output_type": "stream",
          "name": "stdout",
          "text": [
            "tensor([[  101, 94608, 10203, 10127, 39854,   117,   151, 25004, 22142, 10197,\n",
            "           106, 81981,   106, 47088,   106,   102]])\n",
            "tensor([[  101, 10203, 10140, 10103, 10889, 36129, 45795, 10301, 21973,   151,\n",
            "         10574, 15765, 39183,   119, 50334,   106, 13362, 12590,   106,   102]])\n"
          ]
        }
      ],
      "metadata": {
        "colab": {
          "base_uri": "https://localhost:8080/"
        },
        "id": "RZj7y74bY1B-",
        "outputId": "45ba53e4-125d-428f-c769-84d50cd579ed"
      }
    },
    {
      "cell_type": "code",
      "execution_count": 12,
      "source": [
        "good_results = model(good_tokens)\r\n",
        "bad_results = model(bad_tokens)\r\n",
        "\r\n",
        "print(good_results)\r\n",
        "print(bad_results)"
      ],
      "outputs": [
        {
          "output_type": "stream",
          "name": "stdout",
          "text": [
            "SequenceClassifierOutput(loss=None, logits=tensor([[-1.6161, -2.4433, -1.5049,  0.4739,  4.2215]],\n",
            "       grad_fn=<AddmmBackward>), hidden_states=None, attentions=None)\n",
            "SequenceClassifierOutput(loss=None, logits=tensor([[ 5.0263,  1.4021, -1.1469, -3.1746, -1.4358]],\n",
            "       grad_fn=<AddmmBackward>), hidden_states=None, attentions=None)\n"
          ]
        }
      ],
      "metadata": {
        "colab": {
          "base_uri": "https://localhost:8080/"
        },
        "id": "6ljLAY6iZKay",
        "outputId": "b595e4e9-c4d4-4ba1-94f4-6e2051ae2c9f"
      }
    },
    {
      "cell_type": "markdown",
      "source": [
        "As we can see, the good sentence has a much higher number in the last logit which is equivalent to 5 stars, while the bad sentence has the highest number in the first logit spot, resembling a 1 star!\n",
        "\n",
        "Now lets try it with a tweet from Elon. I'll use one of the tweets we printed earlier."
      ],
      "metadata": {
        "id": "R0eagvByZkSA"
      }
    },
    {
      "cell_type": "code",
      "execution_count": 13,
      "source": [
        "tweet = \"The Model S beta endurance car just passed 150,000 miles on a single battery pack!\"\r\n",
        "tokens = tokenizer.encode(tweet, return_tensors=\"pt\")\r\n",
        "result = model(tokens)\r\n",
        "print(result)"
      ],
      "outputs": [
        {
          "output_type": "stream",
          "name": "stdout",
          "text": [
            "SequenceClassifierOutput(loss=None, logits=tensor([[-0.5236, -0.9150, -0.6577,  0.3347,  1.3500]],\n",
            "       grad_fn=<AddmmBackward>), hidden_states=None, attentions=None)\n"
          ]
        }
      ],
      "metadata": {
        "colab": {
          "base_uri": "https://localhost:8080/"
        },
        "id": "RnMXbpXoZfQj",
        "outputId": "9ba2f56f-cf40-4971-d3b9-15d308cb1a33"
      }
    },
    {
      "cell_type": "markdown",
      "source": [
        "Although the scores aren't as obvious as the good sentence example I provided, we can see that the analyzer is still able to pick up that this is in fact good news, and places the highest sentiment possibilty on the 5-star!\n",
        "\n",
        "Now lets make a new CSV which has the additional column of 'score', which is the model's output for each tweet."
      ],
      "metadata": {
        "id": "9tNd7NPiaYVl"
      }
    },
    {
      "cell_type": "code",
      "execution_count": null,
      "source": [
        "input_file = \"D:/Code/QuantConnect/ElonMuskTweetSentimentAnalysis/data/ElonMuskTweetsPreProcessed.csv\"\r\n",
        "output_file = \"D:/Code/QuantConnect/ElonMuskTweetSentimentAnalysis/data/ElonMuskTweetsScored.csv\"\r\n",
        "\r\n",
        "with open(input_file, 'r', newline='') as f_in, open(output_file, 'w', newline='') as f_out:\r\n",
        "    reader = csv.reader(f_in, delimiter=',')\r\n",
        "    writer = csv.writer(f_out, delimiter=',')\r\n",
        "    for line in reader:\r\n",
        "        time = line[0]\r\n",
        "        tweet = line[1]\r\n",
        "        tokens = tokenizer.encode(tweet, return_tensors=\"pt\")\r\n",
        "        score = model(tokens)\r\n",
        "        writer.writerow([time, score])"
      ],
      "outputs": [],
      "metadata": {}
    }
  ]
}