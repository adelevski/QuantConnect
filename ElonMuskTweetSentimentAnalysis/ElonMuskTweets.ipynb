{
  "nbformat": 4,
  "nbformat_minor": 0,
  "metadata": {
    "colab": {
      "name": "ElonMuskTweets.ipynb",
      "provenance": [],
      "collapsed_sections": []
    },
    "kernelspec": {
      "name": "python3",
      "display_name": "Python 3"
    },
    "language_info": {
      "name": "python"
    },
    "widgets": {
      "application/vnd.jupyter.widget-state+json": {
        "e04aa5a88293484bb9ec8681a46452ea": {
          "model_module": "@jupyter-widgets/controls",
          "model_name": "HBoxModel",
          "model_module_version": "1.5.0",
          "state": {
            "_view_name": "HBoxView",
            "_dom_classes": [],
            "_model_name": "HBoxModel",
            "_view_module": "@jupyter-widgets/controls",
            "_model_module_version": "1.5.0",
            "_view_count": null,
            "_view_module_version": "1.5.0",
            "box_style": "",
            "layout": "IPY_MODEL_d921514c836a4988b2ea019629e09166",
            "_model_module": "@jupyter-widgets/controls",
            "children": [
              "IPY_MODEL_58df056789cb4f78bc078d436419e7b5",
              "IPY_MODEL_9a663348f0534d1ca4275246e191e934",
              "IPY_MODEL_f494e4257b1547f9958e4ebe83196603"
            ]
          }
        },
        "d921514c836a4988b2ea019629e09166": {
          "model_module": "@jupyter-widgets/base",
          "model_name": "LayoutModel",
          "model_module_version": "1.2.0",
          "state": {
            "_view_name": "LayoutView",
            "grid_template_rows": null,
            "right": null,
            "justify_content": null,
            "_view_module": "@jupyter-widgets/base",
            "overflow": null,
            "_model_module_version": "1.2.0",
            "_view_count": null,
            "flex_flow": null,
            "width": null,
            "min_width": null,
            "border": null,
            "align_items": null,
            "bottom": null,
            "_model_module": "@jupyter-widgets/base",
            "top": null,
            "grid_column": null,
            "overflow_y": null,
            "overflow_x": null,
            "grid_auto_flow": null,
            "grid_area": null,
            "grid_template_columns": null,
            "flex": null,
            "_model_name": "LayoutModel",
            "justify_items": null,
            "grid_row": null,
            "max_height": null,
            "align_content": null,
            "visibility": null,
            "align_self": null,
            "height": null,
            "min_height": null,
            "padding": null,
            "grid_auto_rows": null,
            "grid_gap": null,
            "max_width": null,
            "order": null,
            "_view_module_version": "1.2.0",
            "grid_template_areas": null,
            "object_position": null,
            "object_fit": null,
            "grid_auto_columns": null,
            "margin": null,
            "display": null,
            "left": null
          }
        },
        "58df056789cb4f78bc078d436419e7b5": {
          "model_module": "@jupyter-widgets/controls",
          "model_name": "HTMLModel",
          "model_module_version": "1.5.0",
          "state": {
            "_view_name": "HTMLView",
            "style": "IPY_MODEL_a7cf7a6cffec44a7875b5aacc9d2a2cc",
            "_dom_classes": [],
            "description": "",
            "_model_name": "HTMLModel",
            "placeholder": "​",
            "_view_module": "@jupyter-widgets/controls",
            "_model_module_version": "1.5.0",
            "value": "Downloading: 100%",
            "_view_count": null,
            "_view_module_version": "1.5.0",
            "description_tooltip": null,
            "_model_module": "@jupyter-widgets/controls",
            "layout": "IPY_MODEL_f11f3d187d0a4246bb4720d5b0d213d5"
          }
        },
        "9a663348f0534d1ca4275246e191e934": {
          "model_module": "@jupyter-widgets/controls",
          "model_name": "FloatProgressModel",
          "model_module_version": "1.5.0",
          "state": {
            "_view_name": "ProgressView",
            "style": "IPY_MODEL_24a1edf1fa7341518205ed89da88b890",
            "_dom_classes": [],
            "description": "",
            "_model_name": "FloatProgressModel",
            "bar_style": "success",
            "max": 39,
            "_view_module": "@jupyter-widgets/controls",
            "_model_module_version": "1.5.0",
            "value": 39,
            "_view_count": null,
            "_view_module_version": "1.5.0",
            "orientation": "horizontal",
            "min": 0,
            "description_tooltip": null,
            "_model_module": "@jupyter-widgets/controls",
            "layout": "IPY_MODEL_685b3f9aa337423fb7805ee3cfe6acab"
          }
        },
        "f494e4257b1547f9958e4ebe83196603": {
          "model_module": "@jupyter-widgets/controls",
          "model_name": "HTMLModel",
          "model_module_version": "1.5.0",
          "state": {
            "_view_name": "HTMLView",
            "style": "IPY_MODEL_3684e10c73524b72ad21f86b82ea5b9d",
            "_dom_classes": [],
            "description": "",
            "_model_name": "HTMLModel",
            "placeholder": "​",
            "_view_module": "@jupyter-widgets/controls",
            "_model_module_version": "1.5.0",
            "value": " 39.0/39.0 [00:00&lt;00:00, 878B/s]",
            "_view_count": null,
            "_view_module_version": "1.5.0",
            "description_tooltip": null,
            "_model_module": "@jupyter-widgets/controls",
            "layout": "IPY_MODEL_81b90208c6744499be49bf62bc50a722"
          }
        },
        "a7cf7a6cffec44a7875b5aacc9d2a2cc": {
          "model_module": "@jupyter-widgets/controls",
          "model_name": "DescriptionStyleModel",
          "model_module_version": "1.5.0",
          "state": {
            "_view_name": "StyleView",
            "_model_name": "DescriptionStyleModel",
            "description_width": "",
            "_view_module": "@jupyter-widgets/base",
            "_model_module_version": "1.5.0",
            "_view_count": null,
            "_view_module_version": "1.2.0",
            "_model_module": "@jupyter-widgets/controls"
          }
        },
        "f11f3d187d0a4246bb4720d5b0d213d5": {
          "model_module": "@jupyter-widgets/base",
          "model_name": "LayoutModel",
          "model_module_version": "1.2.0",
          "state": {
            "_view_name": "LayoutView",
            "grid_template_rows": null,
            "right": null,
            "justify_content": null,
            "_view_module": "@jupyter-widgets/base",
            "overflow": null,
            "_model_module_version": "1.2.0",
            "_view_count": null,
            "flex_flow": null,
            "width": null,
            "min_width": null,
            "border": null,
            "align_items": null,
            "bottom": null,
            "_model_module": "@jupyter-widgets/base",
            "top": null,
            "grid_column": null,
            "overflow_y": null,
            "overflow_x": null,
            "grid_auto_flow": null,
            "grid_area": null,
            "grid_template_columns": null,
            "flex": null,
            "_model_name": "LayoutModel",
            "justify_items": null,
            "grid_row": null,
            "max_height": null,
            "align_content": null,
            "visibility": null,
            "align_self": null,
            "height": null,
            "min_height": null,
            "padding": null,
            "grid_auto_rows": null,
            "grid_gap": null,
            "max_width": null,
            "order": null,
            "_view_module_version": "1.2.0",
            "grid_template_areas": null,
            "object_position": null,
            "object_fit": null,
            "grid_auto_columns": null,
            "margin": null,
            "display": null,
            "left": null
          }
        },
        "24a1edf1fa7341518205ed89da88b890": {
          "model_module": "@jupyter-widgets/controls",
          "model_name": "ProgressStyleModel",
          "model_module_version": "1.5.0",
          "state": {
            "_view_name": "StyleView",
            "_model_name": "ProgressStyleModel",
            "description_width": "",
            "_view_module": "@jupyter-widgets/base",
            "_model_module_version": "1.5.0",
            "_view_count": null,
            "_view_module_version": "1.2.0",
            "bar_color": null,
            "_model_module": "@jupyter-widgets/controls"
          }
        },
        "685b3f9aa337423fb7805ee3cfe6acab": {
          "model_module": "@jupyter-widgets/base",
          "model_name": "LayoutModel",
          "model_module_version": "1.2.0",
          "state": {
            "_view_name": "LayoutView",
            "grid_template_rows": null,
            "right": null,
            "justify_content": null,
            "_view_module": "@jupyter-widgets/base",
            "overflow": null,
            "_model_module_version": "1.2.0",
            "_view_count": null,
            "flex_flow": null,
            "width": null,
            "min_width": null,
            "border": null,
            "align_items": null,
            "bottom": null,
            "_model_module": "@jupyter-widgets/base",
            "top": null,
            "grid_column": null,
            "overflow_y": null,
            "overflow_x": null,
            "grid_auto_flow": null,
            "grid_area": null,
            "grid_template_columns": null,
            "flex": null,
            "_model_name": "LayoutModel",
            "justify_items": null,
            "grid_row": null,
            "max_height": null,
            "align_content": null,
            "visibility": null,
            "align_self": null,
            "height": null,
            "min_height": null,
            "padding": null,
            "grid_auto_rows": null,
            "grid_gap": null,
            "max_width": null,
            "order": null,
            "_view_module_version": "1.2.0",
            "grid_template_areas": null,
            "object_position": null,
            "object_fit": null,
            "grid_auto_columns": null,
            "margin": null,
            "display": null,
            "left": null
          }
        },
        "3684e10c73524b72ad21f86b82ea5b9d": {
          "model_module": "@jupyter-widgets/controls",
          "model_name": "DescriptionStyleModel",
          "model_module_version": "1.5.0",
          "state": {
            "_view_name": "StyleView",
            "_model_name": "DescriptionStyleModel",
            "description_width": "",
            "_view_module": "@jupyter-widgets/base",
            "_model_module_version": "1.5.0",
            "_view_count": null,
            "_view_module_version": "1.2.0",
            "_model_module": "@jupyter-widgets/controls"
          }
        },
        "81b90208c6744499be49bf62bc50a722": {
          "model_module": "@jupyter-widgets/base",
          "model_name": "LayoutModel",
          "model_module_version": "1.2.0",
          "state": {
            "_view_name": "LayoutView",
            "grid_template_rows": null,
            "right": null,
            "justify_content": null,
            "_view_module": "@jupyter-widgets/base",
            "overflow": null,
            "_model_module_version": "1.2.0",
            "_view_count": null,
            "flex_flow": null,
            "width": null,
            "min_width": null,
            "border": null,
            "align_items": null,
            "bottom": null,
            "_model_module": "@jupyter-widgets/base",
            "top": null,
            "grid_column": null,
            "overflow_y": null,
            "overflow_x": null,
            "grid_auto_flow": null,
            "grid_area": null,
            "grid_template_columns": null,
            "flex": null,
            "_model_name": "LayoutModel",
            "justify_items": null,
            "grid_row": null,
            "max_height": null,
            "align_content": null,
            "visibility": null,
            "align_self": null,
            "height": null,
            "min_height": null,
            "padding": null,
            "grid_auto_rows": null,
            "grid_gap": null,
            "max_width": null,
            "order": null,
            "_view_module_version": "1.2.0",
            "grid_template_areas": null,
            "object_position": null,
            "object_fit": null,
            "grid_auto_columns": null,
            "margin": null,
            "display": null,
            "left": null
          }
        }
      }
    },
    "accelerator": "GPU"
  },
  "cells": [
    {
      "cell_type": "markdown",
      "metadata": {
        "id": "8m4BcHoOUwRS"
      },
      "source": [
        "# Elon Musk Tweets Sentiment Analysis\n",
        "\n",
        "I will be attempting to write an algorithmic trading bot which either longs or shorts TSLA stock depending on the sentiment analysis of Elon Musk's tweets. In order to see if such an algorithm would perform well, I will be gathering a [dataset](https://www.kaggle.com/ayhmrba/elon-musk-tweets-2010-2021) of his tweets from the years 2011-2021, and using them to backtest the strategy on QuantConnect. \n"
      ]
    },
    {
      "cell_type": "code",
      "metadata": {
        "id": "G1QLjklvU-dG",
        "colab": {
          "base_uri": "https://localhost:8080/"
        },
        "outputId": "668b83b0-462d-45ff-b19b-3243c32f0611"
      },
      "source": [
        "# from google.colab import files\n",
        "from google.colab import drive\n",
        "drive.mount('/content/gdrive')\n",
        "# files.upload()\n",
        "\n",
        "# !cp kaggle.json ~/.kaggle/\n",
        "# !chmod 600 /root/.kaggle/kaggle.json\n",
        "\n",
        "# !kaggle datasets download -d ayhmrba/elon-musk-tweets-2010-2021\n",
        "# !unzip /content/elon-musk-tweets-2010-2021.zip"
      ],
      "execution_count": 1,
      "outputs": [
        {
          "output_type": "stream",
          "name": "stdout",
          "text": [
            "Mounted at /content/gdrive\n"
          ]
        }
      ]
    },
    {
      "cell_type": "code",
      "metadata": {
        "id": "Kp-rPwVwWjr1"
      },
      "source": [
        "!pip install transformers"
      ],
      "execution_count": null,
      "outputs": []
    },
    {
      "cell_type": "code",
      "metadata": {
        "id": "RlkBQ1HmUsLk"
      },
      "source": [
        "# import dependencies\n",
        "import pandas as pd\n",
        "import re\n",
        "import csv\n",
        "\n",
        "from transformers import AutoTokenizer, AutoModelForSequenceClassification"
      ],
      "execution_count": 14,
      "outputs": []
    },
    {
      "cell_type": "code",
      "metadata": {
        "id": "IzMxkZlxW3Ik",
        "colab": {
          "base_uri": "https://localhost:8080/",
          "height": 796
        },
        "outputId": "52531c87-7ab9-406d-b8d5-ccf085787cfa"
      },
      "source": [
        "df = pd.read_csv(\"/content/gdrive/MyDrive/Colab Notebooks/Kaggle/ElonMuskTweets/2021.csv\")\n",
        "df"
      ],
      "execution_count": 4,
      "outputs": [
        {
          "output_type": "execute_result",
          "data": {
            "text/html": [
              "<div>\n",
              "<style scoped>\n",
              "    .dataframe tbody tr th:only-of-type {\n",
              "        vertical-align: middle;\n",
              "    }\n",
              "\n",
              "    .dataframe tbody tr th {\n",
              "        vertical-align: top;\n",
              "    }\n",
              "\n",
              "    .dataframe thead th {\n",
              "        text-align: right;\n",
              "    }\n",
              "</style>\n",
              "<table border=\"1\" class=\"dataframe\">\n",
              "  <thead>\n",
              "    <tr style=\"text-align: right;\">\n",
              "      <th></th>\n",
              "      <th>Unnamed: 0</th>\n",
              "      <th>id</th>\n",
              "      <th>conversation_id</th>\n",
              "      <th>created_at</th>\n",
              "      <th>date</th>\n",
              "      <th>timezone</th>\n",
              "      <th>place</th>\n",
              "      <th>tweet</th>\n",
              "      <th>language</th>\n",
              "      <th>hashtags</th>\n",
              "      <th>cashtags</th>\n",
              "      <th>user_id</th>\n",
              "      <th>user_id_str</th>\n",
              "      <th>username</th>\n",
              "      <th>name</th>\n",
              "      <th>day</th>\n",
              "      <th>hour</th>\n",
              "      <th>link</th>\n",
              "      <th>urls</th>\n",
              "      <th>photos</th>\n",
              "      <th>video</th>\n",
              "      <th>thumbnail</th>\n",
              "      <th>retweet</th>\n",
              "      <th>nlikes</th>\n",
              "      <th>nreplies</th>\n",
              "      <th>nretweets</th>\n",
              "      <th>quote_url</th>\n",
              "      <th>search</th>\n",
              "      <th>near</th>\n",
              "      <th>geo</th>\n",
              "      <th>source</th>\n",
              "      <th>user_rt_id</th>\n",
              "      <th>user_rt</th>\n",
              "      <th>retweet_id</th>\n",
              "      <th>reply_to</th>\n",
              "      <th>retweet_date</th>\n",
              "      <th>translate</th>\n",
              "      <th>trans_src</th>\n",
              "      <th>trans_dest</th>\n",
              "    </tr>\n",
              "  </thead>\n",
              "  <tbody>\n",
              "    <tr>\n",
              "      <th>0</th>\n",
              "      <td>0</td>\n",
              "      <td>1373819373090050048</td>\n",
              "      <td>1373669212271566858</td>\n",
              "      <td>1.616379e+12</td>\n",
              "      <td>2021-03-22 02:10:37</td>\n",
              "      <td>0</td>\n",
              "      <td>NaN</td>\n",
              "      <td>@bluemoondance74 @NASASpaceflight Going well. ...</td>\n",
              "      <td>en</td>\n",
              "      <td>[]</td>\n",
              "      <td>[]</td>\n",
              "      <td>44196397</td>\n",
              "      <td>44196397</td>\n",
              "      <td>elonmusk</td>\n",
              "      <td>Elon Musk</td>\n",
              "      <td>1</td>\n",
              "      <td>2</td>\n",
              "      <td>https://twitter.com/elonmusk/status/1373819373...</td>\n",
              "      <td>[]</td>\n",
              "      <td>[]</td>\n",
              "      <td>0</td>\n",
              "      <td>NaN</td>\n",
              "      <td>False</td>\n",
              "      <td>2678</td>\n",
              "      <td>234</td>\n",
              "      <td>134</td>\n",
              "      <td>NaN</td>\n",
              "      <td>None</td>\n",
              "      <td>NaN</td>\n",
              "      <td>NaN</td>\n",
              "      <td>NaN</td>\n",
              "      <td>NaN</td>\n",
              "      <td>NaN</td>\n",
              "      <td>NaN</td>\n",
              "      <td>[{'screen_name': 'bluemoondance74', 'name': 'R...</td>\n",
              "      <td>NaN</td>\n",
              "      <td>NaN</td>\n",
              "      <td>NaN</td>\n",
              "      <td>NaN</td>\n",
              "    </tr>\n",
              "    <tr>\n",
              "      <th>1</th>\n",
              "      <td>1</td>\n",
              "      <td>1373735946244431873</td>\n",
              "      <td>1373669212271566858</td>\n",
              "      <td>1.616359e+12</td>\n",
              "      <td>2021-03-21 20:39:07</td>\n",
              "      <td>0</td>\n",
              "      <td>NaN</td>\n",
              "      <td>@NASASpaceflight Hopefully will happen this de...</td>\n",
              "      <td>en</td>\n",
              "      <td>[]</td>\n",
              "      <td>[]</td>\n",
              "      <td>44196397</td>\n",
              "      <td>44196397</td>\n",
              "      <td>elonmusk</td>\n",
              "      <td>Elon Musk</td>\n",
              "      <td>7</td>\n",
              "      <td>20</td>\n",
              "      <td>https://twitter.com/elonmusk/status/1373735946...</td>\n",
              "      <td>[]</td>\n",
              "      <td>[]</td>\n",
              "      <td>0</td>\n",
              "      <td>NaN</td>\n",
              "      <td>False</td>\n",
              "      <td>7967</td>\n",
              "      <td>535</td>\n",
              "      <td>570</td>\n",
              "      <td>NaN</td>\n",
              "      <td>None</td>\n",
              "      <td>NaN</td>\n",
              "      <td>NaN</td>\n",
              "      <td>NaN</td>\n",
              "      <td>NaN</td>\n",
              "      <td>NaN</td>\n",
              "      <td>NaN</td>\n",
              "      <td>[{'screen_name': 'NASASpaceflight', 'name': 'C...</td>\n",
              "      <td>NaN</td>\n",
              "      <td>NaN</td>\n",
              "      <td>NaN</td>\n",
              "      <td>NaN</td>\n",
              "    </tr>\n",
              "    <tr>\n",
              "      <th>2</th>\n",
              "      <td>2</td>\n",
              "      <td>1373555480870621188</td>\n",
              "      <td>1373328330041229312</td>\n",
              "      <td>1.616316e+12</td>\n",
              "      <td>2021-03-21 08:42:00</td>\n",
              "      <td>0</td>\n",
              "      <td>NaN</td>\n",
              "      <td>@newscientist True</td>\n",
              "      <td>en</td>\n",
              "      <td>[]</td>\n",
              "      <td>[]</td>\n",
              "      <td>44196397</td>\n",
              "      <td>44196397</td>\n",
              "      <td>elonmusk</td>\n",
              "      <td>Elon Musk</td>\n",
              "      <td>7</td>\n",
              "      <td>8</td>\n",
              "      <td>https://twitter.com/elonmusk/status/1373555480...</td>\n",
              "      <td>[]</td>\n",
              "      <td>[]</td>\n",
              "      <td>0</td>\n",
              "      <td>NaN</td>\n",
              "      <td>False</td>\n",
              "      <td>15510</td>\n",
              "      <td>539</td>\n",
              "      <td>409</td>\n",
              "      <td>NaN</td>\n",
              "      <td>None</td>\n",
              "      <td>NaN</td>\n",
              "      <td>NaN</td>\n",
              "      <td>NaN</td>\n",
              "      <td>NaN</td>\n",
              "      <td>NaN</td>\n",
              "      <td>NaN</td>\n",
              "      <td>[{'screen_name': 'newscientist', 'name': 'New ...</td>\n",
              "      <td>NaN</td>\n",
              "      <td>NaN</td>\n",
              "      <td>NaN</td>\n",
              "      <td>NaN</td>\n",
              "    </tr>\n",
              "    <tr>\n",
              "      <th>3</th>\n",
              "      <td>3</td>\n",
              "      <td>1373507545315172357</td>\n",
              "      <td>1373263440391864323</td>\n",
              "      <td>1.616305e+12</td>\n",
              "      <td>2021-03-21 05:31:31</td>\n",
              "      <td>0</td>\n",
              "      <td>NaN</td>\n",
              "      <td>@cleantechnica I am accumulating resources to ...</td>\n",
              "      <td>en</td>\n",
              "      <td>[]</td>\n",
              "      <td>[]</td>\n",
              "      <td>44196397</td>\n",
              "      <td>44196397</td>\n",
              "      <td>elonmusk</td>\n",
              "      <td>Elon Musk</td>\n",
              "      <td>7</td>\n",
              "      <td>5</td>\n",
              "      <td>https://twitter.com/elonmusk/status/1373507545...</td>\n",
              "      <td>[]</td>\n",
              "      <td>[]</td>\n",
              "      <td>0</td>\n",
              "      <td>NaN</td>\n",
              "      <td>False</td>\n",
              "      <td>143476</td>\n",
              "      <td>10500</td>\n",
              "      <td>12483</td>\n",
              "      <td>NaN</td>\n",
              "      <td>None</td>\n",
              "      <td>NaN</td>\n",
              "      <td>NaN</td>\n",
              "      <td>NaN</td>\n",
              "      <td>NaN</td>\n",
              "      <td>NaN</td>\n",
              "      <td>NaN</td>\n",
              "      <td>[{'screen_name': 'cleantechnica', 'name': 'Cle...</td>\n",
              "      <td>NaN</td>\n",
              "      <td>NaN</td>\n",
              "      <td>NaN</td>\n",
              "      <td>NaN</td>\n",
              "    </tr>\n",
              "    <tr>\n",
              "      <th>4</th>\n",
              "      <td>4</td>\n",
              "      <td>1373492611231535111</td>\n",
              "      <td>1373357995288051718</td>\n",
              "      <td>1.616301e+12</td>\n",
              "      <td>2021-03-21 04:32:11</td>\n",
              "      <td>0</td>\n",
              "      <td>NaN</td>\n",
              "      <td>@CathieDWood When vast amounts of manufacturin...</td>\n",
              "      <td>en</td>\n",
              "      <td>[]</td>\n",
              "      <td>[]</td>\n",
              "      <td>44196397</td>\n",
              "      <td>44196397</td>\n",
              "      <td>elonmusk</td>\n",
              "      <td>Elon Musk</td>\n",
              "      <td>7</td>\n",
              "      <td>4</td>\n",
              "      <td>https://twitter.com/elonmusk/status/1373492611...</td>\n",
              "      <td>[]</td>\n",
              "      <td>[]</td>\n",
              "      <td>0</td>\n",
              "      <td>NaN</td>\n",
              "      <td>False</td>\n",
              "      <td>6568</td>\n",
              "      <td>376</td>\n",
              "      <td>425</td>\n",
              "      <td>NaN</td>\n",
              "      <td>None</td>\n",
              "      <td>NaN</td>\n",
              "      <td>NaN</td>\n",
              "      <td>NaN</td>\n",
              "      <td>NaN</td>\n",
              "      <td>NaN</td>\n",
              "      <td>NaN</td>\n",
              "      <td>[{'screen_name': 'CathieDWood', 'name': 'Cathi...</td>\n",
              "      <td>NaN</td>\n",
              "      <td>NaN</td>\n",
              "      <td>NaN</td>\n",
              "      <td>NaN</td>\n",
              "    </tr>\n",
              "    <tr>\n",
              "      <th>...</th>\n",
              "      <td>...</td>\n",
              "      <td>...</td>\n",
              "      <td>...</td>\n",
              "      <td>...</td>\n",
              "      <td>...</td>\n",
              "      <td>...</td>\n",
              "      <td>...</td>\n",
              "      <td>...</td>\n",
              "      <td>...</td>\n",
              "      <td>...</td>\n",
              "      <td>...</td>\n",
              "      <td>...</td>\n",
              "      <td>...</td>\n",
              "      <td>...</td>\n",
              "      <td>...</td>\n",
              "      <td>...</td>\n",
              "      <td>...</td>\n",
              "      <td>...</td>\n",
              "      <td>...</td>\n",
              "      <td>...</td>\n",
              "      <td>...</td>\n",
              "      <td>...</td>\n",
              "      <td>...</td>\n",
              "      <td>...</td>\n",
              "      <td>...</td>\n",
              "      <td>...</td>\n",
              "      <td>...</td>\n",
              "      <td>...</td>\n",
              "      <td>...</td>\n",
              "      <td>...</td>\n",
              "      <td>...</td>\n",
              "      <td>...</td>\n",
              "      <td>...</td>\n",
              "      <td>...</td>\n",
              "      <td>...</td>\n",
              "      <td>...</td>\n",
              "      <td>...</td>\n",
              "      <td>...</td>\n",
              "      <td>...</td>\n",
              "    </tr>\n",
              "    <tr>\n",
              "      <th>12334</th>\n",
              "      <td>12334</td>\n",
              "      <td>142881284019060736</td>\n",
              "      <td>142881284019060736</td>\n",
              "      <td>1.322901e+12</td>\n",
              "      <td>2011-12-03 08:22:07</td>\n",
              "      <td>0</td>\n",
              "      <td>NaN</td>\n",
              "      <td>That was a total non sequitur btw</td>\n",
              "      <td>en</td>\n",
              "      <td>[]</td>\n",
              "      <td>[]</td>\n",
              "      <td>44196397</td>\n",
              "      <td>44196397</td>\n",
              "      <td>elonmusk</td>\n",
              "      <td>Elon Musk</td>\n",
              "      <td>6</td>\n",
              "      <td>8</td>\n",
              "      <td>https://twitter.com/elonmusk/status/1428812840...</td>\n",
              "      <td>[]</td>\n",
              "      <td>[]</td>\n",
              "      <td>0</td>\n",
              "      <td>NaN</td>\n",
              "      <td>False</td>\n",
              "      <td>53</td>\n",
              "      <td>31</td>\n",
              "      <td>6</td>\n",
              "      <td>NaN</td>\n",
              "      <td>None</td>\n",
              "      <td>NaN</td>\n",
              "      <td>NaN</td>\n",
              "      <td>NaN</td>\n",
              "      <td>NaN</td>\n",
              "      <td>NaN</td>\n",
              "      <td>NaN</td>\n",
              "      <td>[]</td>\n",
              "      <td>NaN</td>\n",
              "      <td>NaN</td>\n",
              "      <td>NaN</td>\n",
              "      <td>NaN</td>\n",
              "    </tr>\n",
              "    <tr>\n",
              "      <th>12335</th>\n",
              "      <td>12335</td>\n",
              "      <td>142880871391838208</td>\n",
              "      <td>142880871391838208</td>\n",
              "      <td>1.322900e+12</td>\n",
              "      <td>2011-12-03 08:20:28</td>\n",
              "      <td>0</td>\n",
              "      <td>NaN</td>\n",
              "      <td>Great Voltaire quote, arguably better than Twa...</td>\n",
              "      <td>en</td>\n",
              "      <td>[]</td>\n",
              "      <td>[]</td>\n",
              "      <td>44196397</td>\n",
              "      <td>44196397</td>\n",
              "      <td>elonmusk</td>\n",
              "      <td>Elon Musk</td>\n",
              "      <td>6</td>\n",
              "      <td>8</td>\n",
              "      <td>https://twitter.com/elonmusk/status/1428808713...</td>\n",
              "      <td>[]</td>\n",
              "      <td>[]</td>\n",
              "      <td>0</td>\n",
              "      <td>NaN</td>\n",
              "      <td>False</td>\n",
              "      <td>29</td>\n",
              "      <td>7</td>\n",
              "      <td>25</td>\n",
              "      <td>NaN</td>\n",
              "      <td>None</td>\n",
              "      <td>NaN</td>\n",
              "      <td>NaN</td>\n",
              "      <td>NaN</td>\n",
              "      <td>NaN</td>\n",
              "      <td>NaN</td>\n",
              "      <td>NaN</td>\n",
              "      <td>[]</td>\n",
              "      <td>NaN</td>\n",
              "      <td>NaN</td>\n",
              "      <td>NaN</td>\n",
              "      <td>NaN</td>\n",
              "    </tr>\n",
              "    <tr>\n",
              "      <th>12336</th>\n",
              "      <td>12336</td>\n",
              "      <td>142188458125963264</td>\n",
              "      <td>142188458125963264</td>\n",
              "      <td>1.322735e+12</td>\n",
              "      <td>2011-12-01 10:29:04</td>\n",
              "      <td>0</td>\n",
              "      <td>NaN</td>\n",
              "      <td>I made the volume on the Model S  http://t.co/...</td>\n",
              "      <td>en</td>\n",
              "      <td>[]</td>\n",
              "      <td>[]</td>\n",
              "      <td>44196397</td>\n",
              "      <td>44196397</td>\n",
              "      <td>elonmusk</td>\n",
              "      <td>Elon Musk</td>\n",
              "      <td>4</td>\n",
              "      <td>10</td>\n",
              "      <td>https://twitter.com/elonmusk/status/1421884581...</td>\n",
              "      <td>['http://ow.ly/i/mtD7']</td>\n",
              "      <td>[]</td>\n",
              "      <td>0</td>\n",
              "      <td>NaN</td>\n",
              "      <td>False</td>\n",
              "      <td>78</td>\n",
              "      <td>31</td>\n",
              "      <td>9</td>\n",
              "      <td>NaN</td>\n",
              "      <td>None</td>\n",
              "      <td>NaN</td>\n",
              "      <td>NaN</td>\n",
              "      <td>NaN</td>\n",
              "      <td>NaN</td>\n",
              "      <td>NaN</td>\n",
              "      <td>NaN</td>\n",
              "      <td>[]</td>\n",
              "      <td>NaN</td>\n",
              "      <td>NaN</td>\n",
              "      <td>NaN</td>\n",
              "      <td>NaN</td>\n",
              "    </tr>\n",
              "    <tr>\n",
              "      <th>12337</th>\n",
              "      <td>12337</td>\n",
              "      <td>142179928203460608</td>\n",
              "      <td>142179928203460608</td>\n",
              "      <td>1.322733e+12</td>\n",
              "      <td>2011-12-01 09:55:11</td>\n",
              "      <td>0</td>\n",
              "      <td>NaN</td>\n",
              "      <td>Went to Iceland on Sat to ride bumper cars on ...</td>\n",
              "      <td>en</td>\n",
              "      <td>[]</td>\n",
              "      <td>[]</td>\n",
              "      <td>44196397</td>\n",
              "      <td>44196397</td>\n",
              "      <td>elonmusk</td>\n",
              "      <td>Elon Musk</td>\n",
              "      <td>4</td>\n",
              "      <td>9</td>\n",
              "      <td>https://twitter.com/elonmusk/status/1421799282...</td>\n",
              "      <td>[]</td>\n",
              "      <td>['https://pbs.twimg.com/media/Afkf5DMCAAEJGFr....</td>\n",
              "      <td>1</td>\n",
              "      <td>https://pbs.twimg.com/media/Afkf5DMCAAEJGFr.jpg</td>\n",
              "      <td>False</td>\n",
              "      <td>189</td>\n",
              "      <td>32</td>\n",
              "      <td>15</td>\n",
              "      <td>NaN</td>\n",
              "      <td>None</td>\n",
              "      <td>NaN</td>\n",
              "      <td>NaN</td>\n",
              "      <td>NaN</td>\n",
              "      <td>NaN</td>\n",
              "      <td>NaN</td>\n",
              "      <td>NaN</td>\n",
              "      <td>[]</td>\n",
              "      <td>NaN</td>\n",
              "      <td>NaN</td>\n",
              "      <td>NaN</td>\n",
              "      <td>NaN</td>\n",
              "    </tr>\n",
              "    <tr>\n",
              "      <th>12338</th>\n",
              "      <td>12338</td>\n",
              "      <td>15434727182</td>\n",
              "      <td>15434727182</td>\n",
              "      <td>1.275676e+12</td>\n",
              "      <td>2010-06-04 18:31:57</td>\n",
              "      <td>0</td>\n",
              "      <td>NaN</td>\n",
              "      <td>Please ignore prior tweets, as that was someon...</td>\n",
              "      <td>en</td>\n",
              "      <td>[]</td>\n",
              "      <td>[]</td>\n",
              "      <td>44196397</td>\n",
              "      <td>44196397</td>\n",
              "      <td>elonmusk</td>\n",
              "      <td>Elon Musk</td>\n",
              "      <td>5</td>\n",
              "      <td>18</td>\n",
              "      <td>https://twitter.com/elonmusk/status/15434727182</td>\n",
              "      <td>[]</td>\n",
              "      <td>[]</td>\n",
              "      <td>0</td>\n",
              "      <td>NaN</td>\n",
              "      <td>False</td>\n",
              "      <td>4652</td>\n",
              "      <td>391</td>\n",
              "      <td>348</td>\n",
              "      <td>NaN</td>\n",
              "      <td>None</td>\n",
              "      <td>NaN</td>\n",
              "      <td>NaN</td>\n",
              "      <td>NaN</td>\n",
              "      <td>NaN</td>\n",
              "      <td>NaN</td>\n",
              "      <td>NaN</td>\n",
              "      <td>[]</td>\n",
              "      <td>NaN</td>\n",
              "      <td>NaN</td>\n",
              "      <td>NaN</td>\n",
              "      <td>NaN</td>\n",
              "    </tr>\n",
              "  </tbody>\n",
              "</table>\n",
              "<p>12339 rows × 39 columns</p>\n",
              "</div>"
            ],
            "text/plain": [
              "       Unnamed: 0                   id  ...  trans_src  trans_dest\n",
              "0               0  1373819373090050048  ...        NaN         NaN\n",
              "1               1  1373735946244431873  ...        NaN         NaN\n",
              "2               2  1373555480870621188  ...        NaN         NaN\n",
              "3               3  1373507545315172357  ...        NaN         NaN\n",
              "4               4  1373492611231535111  ...        NaN         NaN\n",
              "...           ...                  ...  ...        ...         ...\n",
              "12334       12334   142881284019060736  ...        NaN         NaN\n",
              "12335       12335   142880871391838208  ...        NaN         NaN\n",
              "12336       12336   142188458125963264  ...        NaN         NaN\n",
              "12337       12337   142179928203460608  ...        NaN         NaN\n",
              "12338       12338          15434727182  ...        NaN         NaN\n",
              "\n",
              "[12339 rows x 39 columns]"
            ]
          },
          "metadata": {},
          "execution_count": 4
        }
      ]
    },
    {
      "cell_type": "markdown",
      "metadata": {
        "id": "TOR76QiTXHVm"
      },
      "source": [
        "The only columns we will need are the 'date' and 'tweet' columns. Also, we need to reverse them for the algorithm's sake. They need to be going from olders to latest, not vice versa."
      ]
    },
    {
      "cell_type": "code",
      "metadata": {
        "colab": {
          "base_uri": "https://localhost:8080/",
          "height": 419
        },
        "id": "-bzt18oPXH_j",
        "outputId": "93c7cc3a-783a-4220-dc35-b4370b42b1a2"
      },
      "source": [
        "df = df[['date', 'tweet']]\n",
        "df = df[::-1].reset_index(drop=True)\n",
        "df"
      ],
      "execution_count": 5,
      "outputs": [
        {
          "output_type": "execute_result",
          "data": {
            "text/html": [
              "<div>\n",
              "<style scoped>\n",
              "    .dataframe tbody tr th:only-of-type {\n",
              "        vertical-align: middle;\n",
              "    }\n",
              "\n",
              "    .dataframe tbody tr th {\n",
              "        vertical-align: top;\n",
              "    }\n",
              "\n",
              "    .dataframe thead th {\n",
              "        text-align: right;\n",
              "    }\n",
              "</style>\n",
              "<table border=\"1\" class=\"dataframe\">\n",
              "  <thead>\n",
              "    <tr style=\"text-align: right;\">\n",
              "      <th></th>\n",
              "      <th>date</th>\n",
              "      <th>tweet</th>\n",
              "    </tr>\n",
              "  </thead>\n",
              "  <tbody>\n",
              "    <tr>\n",
              "      <th>0</th>\n",
              "      <td>2010-06-04 18:31:57</td>\n",
              "      <td>Please ignore prior tweets, as that was someon...</td>\n",
              "    </tr>\n",
              "    <tr>\n",
              "      <th>1</th>\n",
              "      <td>2011-12-01 09:55:11</td>\n",
              "      <td>Went to Iceland on Sat to ride bumper cars on ...</td>\n",
              "    </tr>\n",
              "    <tr>\n",
              "      <th>2</th>\n",
              "      <td>2011-12-01 10:29:04</td>\n",
              "      <td>I made the volume on the Model S  http://t.co/...</td>\n",
              "    </tr>\n",
              "    <tr>\n",
              "      <th>3</th>\n",
              "      <td>2011-12-03 08:20:28</td>\n",
              "      <td>Great Voltaire quote, arguably better than Twa...</td>\n",
              "    </tr>\n",
              "    <tr>\n",
              "      <th>4</th>\n",
              "      <td>2011-12-03 08:22:07</td>\n",
              "      <td>That was a total non sequitur btw</td>\n",
              "    </tr>\n",
              "    <tr>\n",
              "      <th>...</th>\n",
              "      <td>...</td>\n",
              "      <td>...</td>\n",
              "    </tr>\n",
              "    <tr>\n",
              "      <th>12334</th>\n",
              "      <td>2021-03-21 04:32:11</td>\n",
              "      <td>@CathieDWood When vast amounts of manufacturin...</td>\n",
              "    </tr>\n",
              "    <tr>\n",
              "      <th>12335</th>\n",
              "      <td>2021-03-21 05:31:31</td>\n",
              "      <td>@cleantechnica I am accumulating resources to ...</td>\n",
              "    </tr>\n",
              "    <tr>\n",
              "      <th>12336</th>\n",
              "      <td>2021-03-21 08:42:00</td>\n",
              "      <td>@newscientist True</td>\n",
              "    </tr>\n",
              "    <tr>\n",
              "      <th>12337</th>\n",
              "      <td>2021-03-21 20:39:07</td>\n",
              "      <td>@NASASpaceflight Hopefully will happen this de...</td>\n",
              "    </tr>\n",
              "    <tr>\n",
              "      <th>12338</th>\n",
              "      <td>2021-03-22 02:10:37</td>\n",
              "      <td>@bluemoondance74 @NASASpaceflight Going well. ...</td>\n",
              "    </tr>\n",
              "  </tbody>\n",
              "</table>\n",
              "<p>12339 rows × 2 columns</p>\n",
              "</div>"
            ],
            "text/plain": [
              "                      date                                              tweet\n",
              "0      2010-06-04 18:31:57  Please ignore prior tweets, as that was someon...\n",
              "1      2011-12-01 09:55:11  Went to Iceland on Sat to ride bumper cars on ...\n",
              "2      2011-12-01 10:29:04  I made the volume on the Model S  http://t.co/...\n",
              "3      2011-12-03 08:20:28  Great Voltaire quote, arguably better than Twa...\n",
              "4      2011-12-03 08:22:07                  That was a total non sequitur btw\n",
              "...                    ...                                                ...\n",
              "12334  2021-03-21 04:32:11  @CathieDWood When vast amounts of manufacturin...\n",
              "12335  2021-03-21 05:31:31  @cleantechnica I am accumulating resources to ...\n",
              "12336  2021-03-21 08:42:00                                 @newscientist True\n",
              "12337  2021-03-21 20:39:07  @NASASpaceflight Hopefully will happen this de...\n",
              "12338  2021-03-22 02:10:37  @bluemoondance74 @NASASpaceflight Going well. ...\n",
              "\n",
              "[12339 rows x 2 columns]"
            ]
          },
          "metadata": {},
          "execution_count": 5
        }
      ]
    },
    {
      "cell_type": "markdown",
      "metadata": {
        "id": "Cc5JW7EGXKtR"
      },
      "source": [
        "Much better. Lets look at a couple random tweets."
      ]
    },
    {
      "cell_type": "code",
      "metadata": {
        "colab": {
          "base_uri": "https://localhost:8080/"
        },
        "id": "oaS9K2nOXLTO",
        "outputId": "926afd2a-deb2-42fb-f044-7d38d3a76738"
      },
      "source": [
        "print(df['tweet'][115])\n",
        "print(df['tweet'][742])\n",
        "print(df['tweet'][1215])\n",
        "print(df['tweet'][9211])\n",
        "print(df['tweet'][11501])"
      ],
      "execution_count": 6,
      "outputs": [
        {
          "output_type": "stream",
          "name": "stdout",
          "text": [
            "The Model S beta endurance car just passed 150,000 miles on a single battery pack!\n",
            "Will be doing the LA-NY family road trip over Spring Break. Made everyone watch National Lampoon's Vacation as prep.\n",
            "@JeffBezos Not quite \"rarest\". SpaceX Grasshopper rocket did 6 suborbital flights 3 years ago &amp; is still around.  https://t.co/6j9ERKCNZl\n",
            "@CNN @GavinNewsom  https://t.co/2KfHKLfUJh\n",
            "@PhilippeCROIZON @SpaceX One day we will fly you on Starship\n"
          ]
        }
      ]
    },
    {
      "cell_type": "markdown",
      "metadata": {
        "id": "1GOVgCKNXn9h"
      },
      "source": [
        "So, firstly we can see that a lot of Elon's tweets are either about random things or about his other companies, so we will need to filter them to make sure whether or not we should be using each tweet or not. \n",
        "\n",
        "Second, it is possible for Elon to share good news about Tesla, which has a probability of inflating TSLA stock price, thereby giving us a bit of alpha if we are quick enough. \n",
        "\n",
        "And thirdly, we can see that there are URLS in a lot of the tweets, which could be detremental to the sentiment analyzer, so we will have to remove them."
      ]
    },
    {
      "cell_type": "code",
      "metadata": {
        "id": "9TA9WxsAX7K4"
      },
      "source": [
        "for i in range(len(df)):\n",
        "    if \"http\" in df[\"tweet\"][i]:\n",
        "        urls = re.findall('http[s]?://(?:[a-zA-Z]|[0-9]|[$-_@.&+]|[!*\\(\\),]|[?:%[0-9a-fA-F][0-9a-fA-F])+', df[\"tweet\"][i])\n",
        "\n",
        "        for url in urls:\n",
        "            df[\"tweet\"][i] = df[\"tweet\"][i].replace(url, '{URL}')"
      ],
      "execution_count": 7,
      "outputs": []
    },
    {
      "cell_type": "code",
      "metadata": {
        "colab": {
          "base_uri": "https://localhost:8080/"
        },
        "id": "lQWk6zEAX-lJ",
        "outputId": "41836b3d-36b7-4339-b4cb-ae59c6e4f982"
      },
      "source": [
        "print(df['tweet'][115])\n",
        "print(df['tweet'][742])\n",
        "print(df['tweet'][1215])\n",
        "print(df['tweet'][9211])\n",
        "print(df['tweet'][11501])"
      ],
      "execution_count": 8,
      "outputs": [
        {
          "output_type": "stream",
          "name": "stdout",
          "text": [
            "The Model S beta endurance car just passed 150,000 miles on a single battery pack!\n",
            "Will be doing the LA-NY family road trip over Spring Break. Made everyone watch National Lampoon's Vacation as prep.\n",
            "@JeffBezos Not quite \"rarest\". SpaceX Grasshopper rocket did 6 suborbital flights 3 years ago &amp; is still around.  {URL}\n",
            "@CNN @GavinNewsom  {URL}\n",
            "@PhilippeCROIZON @SpaceX One day we will fly you on Starship\n"
          ]
        }
      ]
    },
    {
      "cell_type": "markdown",
      "metadata": {
        "id": "Uwd_rpR0YED0"
      },
      "source": [
        "Much better. I will save this new DF as a csv of its own to have for later."
      ]
    },
    {
      "cell_type": "code",
      "metadata": {
        "id": "_02PgAD6YDFH"
      },
      "source": [
        "df.to_csv(\"/content/gdrive/MyDrive/Colab Notebooks/Kaggle/ElonMuskTweets/ElonMuskTweetsPreProcessed.csv\", index=False)"
      ],
      "execution_count": 9,
      "outputs": []
    },
    {
      "cell_type": "markdown",
      "metadata": {
        "id": "PJEgYso9YQOD"
      },
      "source": [
        "Now, since QuantConnect does not let us import the transformers library into its environement, we will have to perform the sentiment analysis on the data beforehand, and save it as a new csv which has scores instead of tweets. "
      ]
    },
    {
      "cell_type": "code",
      "metadata": {
        "colab": {
          "base_uri": "https://localhost:8080/",
          "height": 177,
          "referenced_widgets": [
            "e04aa5a88293484bb9ec8681a46452ea",
            "d921514c836a4988b2ea019629e09166",
            "58df056789cb4f78bc078d436419e7b5",
            "9a663348f0534d1ca4275246e191e934",
            "f494e4257b1547f9958e4ebe83196603",
            "a7cf7a6cffec44a7875b5aacc9d2a2cc",
            "f11f3d187d0a4246bb4720d5b0d213d5",
            "24a1edf1fa7341518205ed89da88b890",
            "685b3f9aa337423fb7805ee3cfe6acab",
            "3684e10c73524b72ad21f86b82ea5b9d",
            "81b90208c6744499be49bf62bc50a722"
          ]
        },
        "id": "ehyiA5IWYRMG",
        "outputId": "8d4d0f7e-5a00-41e6-a563-0f7bd6c48991"
      },
      "source": [
        "tokenizer = AutoTokenizer.from_pretrained('nlptown/bert-base-multilingual-uncased-sentiment')\n",
        "model = AutoModelForSequenceClassification.from_pretrained('nlptown/bert-base-multilingual-uncased-sentiment')"
      ],
      "execution_count": 10,
      "outputs": [
        {
          "output_type": "display_data",
          "data": {
            "application/vnd.jupyter.widget-view+json": {
              "model_id": "e04aa5a88293484bb9ec8681a46452ea",
              "version_minor": 0,
              "version_major": 2
            },
            "text/plain": [
              "Downloading:   0%|          | 0.00/39.0 [00:00<?, ?B/s]"
            ]
          },
          "metadata": {}
        },
        {
          "output_type": "display_data",
          "data": {
            "application/vnd.jupyter.widget-view+json": {
              "model_id": "6f7b0652b53649a38b593b0ddcebf6f1",
              "version_minor": 0,
              "version_major": 2
            },
            "text/plain": [
              "Downloading:   0%|          | 0.00/953 [00:00<?, ?B/s]"
            ]
          },
          "metadata": {}
        },
        {
          "output_type": "display_data",
          "data": {
            "application/vnd.jupyter.widget-view+json": {
              "model_id": "562faaf342724a40be7014b678d89d34",
              "version_minor": 0,
              "version_major": 2
            },
            "text/plain": [
              "Downloading:   0%|          | 0.00/851k [00:00<?, ?B/s]"
            ]
          },
          "metadata": {}
        },
        {
          "output_type": "display_data",
          "data": {
            "application/vnd.jupyter.widget-view+json": {
              "model_id": "11df1cc80220493daa26eae6614ecb48",
              "version_minor": 0,
              "version_major": 2
            },
            "text/plain": [
              "Downloading:   0%|          | 0.00/112 [00:00<?, ?B/s]"
            ]
          },
          "metadata": {}
        },
        {
          "output_type": "display_data",
          "data": {
            "application/vnd.jupyter.widget-view+json": {
              "model_id": "91dd602226c1474fb9eb798777273c3b",
              "version_minor": 0,
              "version_major": 2
            },
            "text/plain": [
              "Downloading:   0%|          | 0.00/638M [00:00<?, ?B/s]"
            ]
          },
          "metadata": {}
        }
      ]
    },
    {
      "cell_type": "markdown",
      "metadata": {
        "id": "kxDBunbVYcaw"
      },
      "source": [
        "The way that the BERT sentiment analyzer works, is that first you pass the sentence/passage/tweet into the tokenizer which spits out a vector of tokenized words. Then, you pass the tokens into the model and it returns 5 scores, almost like 5 star reviews. The score with the highest number is the most likely one. Lets see an example"
      ]
    },
    {
      "cell_type": "code",
      "metadata": {
        "colab": {
          "base_uri": "https://localhost:8080/"
        },
        "id": "RZj7y74bY1B-",
        "outputId": "a75ba919-4299-4494-c38f-f5cebbdfc0a9"
      },
      "source": [
        "good_setence = \"Wow that is amazing, I cannot believe it! Incredible! Fantastic!\"\n",
        "bad_sentence = \"That was the most horrible thing I have ever experienced. Terrible! Never again!\"\n",
        "\n",
        "good_tokens = tokenizer.encode(good_setence, return_tensors=\"pt\")\n",
        "bad_tokens = tokenizer.encode(bad_sentence, return_tensors=\"pt\")\n",
        "\n",
        "print(good_tokens)\n",
        "print(bad_tokens)"
      ],
      "execution_count": 11,
      "outputs": [
        {
          "output_type": "stream",
          "name": "stdout",
          "text": [
            "tensor([[  101, 94608, 10203, 10127, 39854,   117,   151, 25004, 22142, 10197,\n",
            "           106, 81981,   106, 47088,   106,   102]])\n",
            "tensor([[  101, 10203, 10140, 10103, 10889, 36129, 45795, 10301, 21973,   151,\n",
            "         10574, 15765, 39183,   119, 50334,   106, 13362, 12590,   106,   102]])\n"
          ]
        }
      ]
    },
    {
      "cell_type": "code",
      "metadata": {
        "colab": {
          "base_uri": "https://localhost:8080/"
        },
        "id": "6ljLAY6iZKay",
        "outputId": "d709f11d-7da0-4b03-d0ed-7cd11d9a364b"
      },
      "source": [
        "good_results = model(good_tokens)\n",
        "bad_results = model(bad_tokens)\n",
        "\n",
        "print(good_results)\n",
        "print(bad_results)"
      ],
      "execution_count": 12,
      "outputs": [
        {
          "output_type": "stream",
          "name": "stdout",
          "text": [
            "SequenceClassifierOutput(loss=None, logits=tensor([[-1.6161, -2.4433, -1.5049,  0.4739,  4.2215]],\n",
            "       grad_fn=<AddmmBackward>), hidden_states=None, attentions=None)\n",
            "SequenceClassifierOutput(loss=None, logits=tensor([[ 5.0263,  1.4021, -1.1469, -3.1746, -1.4358]],\n",
            "       grad_fn=<AddmmBackward>), hidden_states=None, attentions=None)\n"
          ]
        }
      ]
    },
    {
      "cell_type": "markdown",
      "metadata": {
        "id": "R0eagvByZkSA"
      },
      "source": [
        "As we can see, the good sentence has a much higher number in the last logit which is equivalent to 5 stars, while the bad sentence has the highest number in the first logit spot, resembling a 1 star!\n",
        "\n",
        "Now lets try it with a tweet from Elon. I'll use one of the tweets we printed earlier."
      ]
    },
    {
      "cell_type": "code",
      "metadata": {
        "colab": {
          "base_uri": "https://localhost:8080/"
        },
        "id": "RnMXbpXoZfQj",
        "outputId": "9ffea6fd-0168-4f6a-df29-8b0636b12c09"
      },
      "source": [
        "tweet = \"The Model S beta endurance car just passed 150,000 miles on a single battery pack!\"\n",
        "tokens = tokenizer.encode(tweet, return_tensors=\"pt\")\n",
        "result = model(tokens)\n",
        "print(result)"
      ],
      "execution_count": 13,
      "outputs": [
        {
          "output_type": "stream",
          "name": "stdout",
          "text": [
            "SequenceClassifierOutput(loss=None, logits=tensor([[-0.5236, -0.9150, -0.6577,  0.3347,  1.3500]],\n",
            "       grad_fn=<AddmmBackward>), hidden_states=None, attentions=None)\n"
          ]
        }
      ]
    },
    {
      "cell_type": "markdown",
      "metadata": {
        "id": "9tNd7NPiaYVl"
      },
      "source": [
        "Although the scores aren't as obvious as the good sentence example I provided, we can see that the analyzer is still able to pick up that this is in fact good news, and places the highest sentiment possibilty on the 5-star!\n",
        "\n",
        "Now lets make a new CSV which has the additional column of 'score', which is the model's output for each tweet."
      ]
    },
    {
      "cell_type": "code",
      "metadata": {
        "id": "viU9OSKEugLK"
      },
      "source": [
        "\n",
        "input_file = \"/content/gdrive/MyDrive/Colab Notebooks/Kaggle/ElonMuskTweets/ElonMuskTweetsPreProcessed.csv\"\n",
        "output_file = \"/content/gdrive/MyDrive/Colab Notebooks/Kaggle/ElonMuskTweets/ElonMuskTweetsFinal.csv\"\n",
        "\n",
        "with open(input_file, 'r', newline='') as f_in, open(output_file, 'w', newline='') as f_out:\n",
        "    reader = csv.reader(f_in, delimiter=',')\n",
        "    writer = csv.writer(f_out, delimiter=',')\n",
        "    next(reader)\n",
        "    writer.writerow(['time', 'tweet', 'score'])\n",
        "    for line in reader:\n",
        "        time = line[0]\n",
        "        tweet = line[1]\n",
        "        tokens = tokenizer.encode(tweet, return_tensors=\"pt\")\n",
        "        result = model(tokens)\n",
        "        nums = result.split(\"([[\")[1].split(\"]\")[0].split(\",\")\n",
        "        real_nums = [float(num) for num in nums]\n",
        "        writer.writerow([time, tweet, real_nums])"
      ],
      "execution_count": 17,
      "outputs": []
    },
    {
      "cell_type": "code",
      "metadata": {
        "id": "HSfVFJGLaMiK",
        "colab": {
          "base_uri": "https://localhost:8080/",
          "height": 419
        },
        "outputId": "a911d193-3870-4e3f-bfe1-c37cbfc2da9f"
      },
      "source": [
        "new_df = pd.read_csv(\"/content/gdrive/MyDrive/Colab Notebooks/Kaggle/ElonMuskTweets/ElonMuskTweetsFinal.csv\")\n",
        "new_df"
      ],
      "execution_count": 51,
      "outputs": [
        {
          "output_type": "execute_result",
          "data": {
            "text/html": [
              "<div>\n",
              "<style scoped>\n",
              "    .dataframe tbody tr th:only-of-type {\n",
              "        vertical-align: middle;\n",
              "    }\n",
              "\n",
              "    .dataframe tbody tr th {\n",
              "        vertical-align: top;\n",
              "    }\n",
              "\n",
              "    .dataframe thead th {\n",
              "        text-align: right;\n",
              "    }\n",
              "</style>\n",
              "<table border=\"1\" class=\"dataframe\">\n",
              "  <thead>\n",
              "    <tr style=\"text-align: right;\">\n",
              "      <th></th>\n",
              "      <th>date</th>\n",
              "      <th>tweet</th>\n",
              "      <th>score</th>\n",
              "    </tr>\n",
              "  </thead>\n",
              "  <tbody>\n",
              "    <tr>\n",
              "      <th>0</th>\n",
              "      <td>2011-12-01 09:55:11</td>\n",
              "      <td>Went to Iceland on Sat to ride bumper cars on ...</td>\n",
              "      <td>[-1.2518, -1.5825, -0.477, 0.9447, 1.9605]</td>\n",
              "    </tr>\n",
              "    <tr>\n",
              "      <th>1</th>\n",
              "      <td>2011-12-01 10:29:04</td>\n",
              "      <td>I made the volume on the Model S  {URL} go to ...</td>\n",
              "      <td>[0.5312, 0.6482, 0.709, -0.5385, -1.2305]</td>\n",
              "    </tr>\n",
              "    <tr>\n",
              "      <th>2</th>\n",
              "      <td>2011-12-03 08:20:28</td>\n",
              "      <td>Great Voltaire quote, arguably better than Twa...</td>\n",
              "      <td>[-1.6414, -1.308, -0.092, 1.2261, 1.5263]</td>\n",
              "    </tr>\n",
              "    <tr>\n",
              "      <th>3</th>\n",
              "      <td>2011-12-03 08:22:07</td>\n",
              "      <td>That was a total non sequitur btw</td>\n",
              "      <td>[2.5593, 1.1319, 0.2132, -1.462, -1.8178]</td>\n",
              "    </tr>\n",
              "    <tr>\n",
              "      <th>4</th>\n",
              "      <td>2011-12-04 03:33:52</td>\n",
              "      <td>Am reading a great biography of Ben Franklin b...</td>\n",
              "      <td>[-2.5243, -2.5999, -0.979, 1.7844, 3.3992]</td>\n",
              "    </tr>\n",
              "    <tr>\n",
              "      <th>...</th>\n",
              "      <td>...</td>\n",
              "      <td>...</td>\n",
              "      <td>...</td>\n",
              "    </tr>\n",
              "    <tr>\n",
              "      <th>12333</th>\n",
              "      <td>2021-03-21 04:32:11</td>\n",
              "      <td>@CathieDWood When vast amounts of manufacturin...</td>\n",
              "      <td>[-2.3173, -1.2149, 0.2248, 1.753, 1.1714]</td>\n",
              "    </tr>\n",
              "    <tr>\n",
              "      <th>12334</th>\n",
              "      <td>2021-03-21 05:31:31</td>\n",
              "      <td>@cleantechnica I am accumulating resources to ...</td>\n",
              "      <td>[-2.0738, -1.7202, -0.2923, 1.505, 1.9235]</td>\n",
              "    </tr>\n",
              "    <tr>\n",
              "      <th>12335</th>\n",
              "      <td>2021-03-21 08:42:00</td>\n",
              "      <td>@newscientist True</td>\n",
              "      <td>[-0.1079, -0.8622, -0.1104, 0.1674, 0.7615]</td>\n",
              "    </tr>\n",
              "    <tr>\n",
              "      <th>12336</th>\n",
              "      <td>2021-03-21 20:39:07</td>\n",
              "      <td>@NASASpaceflight Hopefully will happen this de...</td>\n",
              "      <td>[-0.5384, -0.8527, -0.2464, 0.4502, 0.8817]</td>\n",
              "    </tr>\n",
              "    <tr>\n",
              "      <th>12337</th>\n",
              "      <td>2021-03-22 02:10:37</td>\n",
              "      <td>@bluemoondance74 @NASASpaceflight Going well. ...</td>\n",
              "      <td>[-2.0645, -1.7817, -0.0701, 1.6425, 1.7283]</td>\n",
              "    </tr>\n",
              "  </tbody>\n",
              "</table>\n",
              "<p>12338 rows × 3 columns</p>\n",
              "</div>"
            ],
            "text/plain": [
              "                      date  ...                                        score\n",
              "0      2011-12-01 09:55:11  ...   [-1.2518, -1.5825, -0.477, 0.9447, 1.9605]\n",
              "1      2011-12-01 10:29:04  ...    [0.5312, 0.6482, 0.709, -0.5385, -1.2305]\n",
              "2      2011-12-03 08:20:28  ...    [-1.6414, -1.308, -0.092, 1.2261, 1.5263]\n",
              "3      2011-12-03 08:22:07  ...    [2.5593, 1.1319, 0.2132, -1.462, -1.8178]\n",
              "4      2011-12-04 03:33:52  ...   [-2.5243, -2.5999, -0.979, 1.7844, 3.3992]\n",
              "...                    ...  ...                                          ...\n",
              "12333  2021-03-21 04:32:11  ...    [-2.3173, -1.2149, 0.2248, 1.753, 1.1714]\n",
              "12334  2021-03-21 05:31:31  ...   [-2.0738, -1.7202, -0.2923, 1.505, 1.9235]\n",
              "12335  2021-03-21 08:42:00  ...  [-0.1079, -0.8622, -0.1104, 0.1674, 0.7615]\n",
              "12336  2021-03-21 20:39:07  ...  [-0.5384, -0.8527, -0.2464, 0.4502, 0.8817]\n",
              "12337  2021-03-22 02:10:37  ...  [-2.0645, -1.7817, -0.0701, 1.6425, 1.7283]\n",
              "\n",
              "[12338 rows x 3 columns]"
            ]
          },
          "metadata": {},
          "execution_count": 51
        }
      ]
    },
    {
      "cell_type": "markdown",
      "metadata": {
        "id": "1UkvAAySPZMD"
      },
      "source": [
        "There we go. Now we have a clean csv file which holds every tweet by Elon Musk from December 1st, 2011 till March 22nd, 2021. For each tweet we have the exact time it was tweeted, the contents of the tweet, and the sentiment analysis 5-number score generated by BERT. Now I can use this csv as a custom data input inside QuantConnect, and build and algorithm which acts upon TSLA stock every time there is a tweet involving words related to Tesla."
      ]
    }
  ]
}