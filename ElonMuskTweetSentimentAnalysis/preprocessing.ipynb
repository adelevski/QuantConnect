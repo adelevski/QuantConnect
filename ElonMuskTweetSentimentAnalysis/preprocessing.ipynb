{
 "cells": [
  {
   "cell_type": "code",
   "execution_count": null,
   "source": [
    "import pandas as pd\r\n",
    "import re\r\n",
    "\r\n",
    "df = pd.read_csv(\"data/elon_tweets/2021.csv\")\r\n",
    "df = df[['date', 'tweet']]\r\n",
    "df.drop(df.tail(1).index, inplace=True)\r\n",
    "df = df[::-1].reset_index(drop=True)"
   ],
   "outputs": [],
   "metadata": {}
  },
  {
   "cell_type": "code",
   "execution_count": 11,
   "source": [
    "for i in range(len(df)):\r\n",
    "    if \"http\" in df[\"tweet\"][i]:\r\n",
    "        urls = re.findall('http[s]?://(?:[a-zA-Z]|[0-9]|[$-_@.&+]|[!*\\(\\),]|[?:%[0-9a-fA-F][0-9a-fA-F])+', df[\"tweet\"][i])\r\n",
    "\r\n",
    "        for url in urls:\r\n",
    "            df[\"tweet\"][i] = df[\"tweet\"][i].replace(url, '{URL}')"
   ],
   "outputs": [],
   "metadata": {}
  },
  {
   "cell_type": "code",
   "execution_count": null,
   "source": [
    "df.to_csv(\"data/elon_tweets/ElonMuskTweetsPreProcessed.csv\", index=False)"
   ],
   "outputs": [],
   "metadata": {}
  }
 ],
 "metadata": {
  "orig_nbformat": 4,
  "language_info": {
   "name": "python",
   "version": "3.8.7",
   "mimetype": "text/x-python",
   "codemirror_mode": {
    "name": "ipython",
    "version": 3
   },
   "pygments_lexer": "ipython3",
   "nbconvert_exporter": "python",
   "file_extension": ".py"
  },
  "kernelspec": {
   "name": "python3",
   "display_name": "Python 3.8.7 64-bit ('venv': venv)"
  },
  "interpreter": {
   "hash": "c67bd0999650af3981a0a2a7d53235f9106b4d44122095a71afe77510c50f411"
  }
 },
 "nbformat": 4,
 "nbformat_minor": 2
}